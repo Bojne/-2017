{
 "cells": [
  {
   "cell_type": "code",
   "execution_count": 35,
   "metadata": {},
   "outputs": [],
   "source": [
    "# 說明：設置環境、import 套件\n",
    "import pandas as pd\n",
    "import numpy as np\n",
    "import pprint \n",
    "import matplotlib.pyplot as plt\n",
    "from matplotlib import pylab\n",
    "# plt.style.use('ggplot')\n",
    "pylab.rcParams['figure.figsize'] = (20, 8)"
   ]
  },
  {
   "cell_type": "code",
   "execution_count": 36,
   "metadata": {
    "collapsed": true
   },
   "outputs": [],
   "source": [
    "# Global variables\n",
    "CostRate = 3"
   ]
  },
  {
   "cell_type": "markdown",
   "metadata": {},
   "source": [
    "## Part 0: Data Pre-processing\n",
    "- 先做一些設置，以便後續整理\n",
    "    - 將欄位index設成英文\n",
    "    - 將資料改為英文（避開畫圖中文問題）\n",
    "\n",
    "### 欄位\n",
    "- 原index: ['﻿時  間', '區 域', '館 舍 別', '迴 路 別', '用電別', '用電量(單位:度)']\n",
    "- 新index:\n",
    "- 我用Number(Excel)的尋找取代功能，把資料轉成英文，以下括弧表示原始資料的命名\n",
    "    - 區域：southArea(南區), northArea(北區)\n",
    "    - 迴 路 別: mainLoop（主迴路）, familyMart（1F便利超商）, club（社團）, socialHall（閱覽交誼廳）, studentHall（學生交誼廳）, streetLight(環校路燈),\n",
    "    - 館舍： dorm_13（學生十三舍）,(7,8,9,10,11,12 以此類推), dorm_graduate_2（研二）, dorm_87（學生七舍＿八舍）, dorm_13_graduate_1(11與研一), dorm_chu（竹軒）\n",
    "    - 用電別：rent（外租）, dorm（宿舍）, admin(行政)\n",
    "    \n"
   ]
  },
  {
   "cell_type": "code",
   "execution_count": 37,
   "metadata": {},
   "outputs": [
    {
     "data": {
      "text/html": [
       "<div>\n",
       "<table border=\"1\" class=\"dataframe\">\n",
       "  <thead>\n",
       "    <tr style=\"text-align: right;\">\n",
       "      <th></th>\n",
       "      <th>DateTime</th>\n",
       "      <th>Area</th>\n",
       "      <th>Building</th>\n",
       "      <th>Loop</th>\n",
       "      <th>Type</th>\n",
       "      <th>Usage</th>\n",
       "    </tr>\n",
       "  </thead>\n",
       "  <tbody>\n",
       "    <tr>\n",
       "      <th>0</th>\n",
       "      <td>2017/09/01 00:00</td>\n",
       "      <td>southArea</td>\n",
       "      <td>dorm_13</td>\n",
       "      <td>familyMart</td>\n",
       "      <td>rent</td>\n",
       "      <td>0.0</td>\n",
       "    </tr>\n",
       "    <tr>\n",
       "      <th>1</th>\n",
       "      <td>2017/09/01 01:00</td>\n",
       "      <td>southArea</td>\n",
       "      <td>dorm_13</td>\n",
       "      <td>familyMart</td>\n",
       "      <td>rent</td>\n",
       "      <td>0.0</td>\n",
       "    </tr>\n",
       "    <tr>\n",
       "      <th>2</th>\n",
       "      <td>2017/09/01 02:00</td>\n",
       "      <td>southArea</td>\n",
       "      <td>dorm_13</td>\n",
       "      <td>familyMart</td>\n",
       "      <td>rent</td>\n",
       "      <td>0.0</td>\n",
       "    </tr>\n",
       "    <tr>\n",
       "      <th>3</th>\n",
       "      <td>2017/09/01 03:00</td>\n",
       "      <td>southArea</td>\n",
       "      <td>dorm_13</td>\n",
       "      <td>familyMart</td>\n",
       "      <td>rent</td>\n",
       "      <td>0.0</td>\n",
       "    </tr>\n",
       "    <tr>\n",
       "      <th>4</th>\n",
       "      <td>2017/09/01 04:00</td>\n",
       "      <td>southArea</td>\n",
       "      <td>dorm_13</td>\n",
       "      <td>familyMart</td>\n",
       "      <td>rent</td>\n",
       "      <td>0.0</td>\n",
       "    </tr>\n",
       "  </tbody>\n",
       "</table>\n",
       "</div>"
      ],
      "text/plain": [
       "           DateTime       Area Building        Loop  Type  Usage\n",
       "0  2017/09/01 00:00  southArea  dorm_13  familyMart  rent    0.0\n",
       "1  2017/09/01 01:00  southArea  dorm_13  familyMart  rent    0.0\n",
       "2  2017/09/01 02:00  southArea  dorm_13  familyMart  rent    0.0\n",
       "3  2017/09/01 03:00  southArea  dorm_13  familyMart  rent    0.0\n",
       "4  2017/09/01 04:00  southArea  dorm_13  familyMart  rent    0.0"
      ]
     },
     "execution_count": 37,
     "metadata": {},
     "output_type": "execute_result"
    }
   ],
   "source": [
    "# 讀檔案\n",
    "# 用.head()看長什麼樣子\n",
    "df = pd.read_csv('data/data0226_0901_1110_hr_dorm.csv')\n",
    "df.columns\n",
    "df.head()"
   ]
  },
  {
   "cell_type": "markdown",
   "metadata": {},
   "source": [
    "### 將DateTime的資訊抽出，新增三個欄位\n",
    "- def generate_date_time_columns(df)\n",
    "    - 放進一個含有 DateTime 欄位的 df, 並寫且回傳新增 Date, Time, Weekday的欄位\n",
    "- Date, Time: 為了之後更方便用日期、時間去存取，分群比較。\n",
    "- Weekday: 為了去了解週一到週日的用電變化"
   ]
  },
  {
   "cell_type": "code",
   "execution_count": 38,
   "metadata": {
    "collapsed": true
   },
   "outputs": [],
   "source": [
    "def generate_date_time_columns(df):\n",
    "    if('DateTime' in df.columns):\n",
    "            df['Date'] = df.DateTime.str[:10]\n",
    "            df['Date'] = pd.to_datetime(df['Date'], format='%Y-%m-%d')\n",
    "            df['Weekday'] = df['Date'].dt.dayofweek + 1\n",
    "            df['Time'] = df.DateTime.str[11:]\n",
    "            df['Week'] = df['Date'].dt.week\n",
    "            print('Columns #Date, #Time, #Weekday, #Week has been generated from DateTime and added to DataFrame')\n",
    "    else:\n",
    "        print('DataTime not in column. Please rename columns name.')\n",
    "    return df"
   ]
  },
  {
   "cell_type": "code",
   "execution_count": 39,
   "metadata": {},
   "outputs": [
    {
     "name": "stdout",
     "output_type": "stream",
     "text": [
      "Columns #Date, #Time, #Weekday, #Week has been generated from DateTime and added to DataFrame\n"
     ]
    }
   ],
   "source": [
    "df = generate_date_time_columns(df)"
   ]
  },
  {
   "cell_type": "code",
   "execution_count": 40,
   "metadata": {},
   "outputs": [],
   "source": [
    "# cost_rate：一度電大概多少錢\n",
    "def generate_cost_estimate(df, cost_rate):\n",
    "    df['Cost'] = df.Usage * cost_rate\n",
    "    print(df.columns)\n",
    "    return df"
   ]
  },
  {
   "cell_type": "code",
   "execution_count": 41,
   "metadata": {},
   "outputs": [
    {
     "name": "stdout",
     "output_type": "stream",
     "text": [
      "Index(['DateTime', 'Area', 'Building', 'Loop', 'Type', 'Usage', 'Date',\n",
      "       'Weekday', 'Time', 'Week', 'Cost'],\n",
      "      dtype='object')\n"
     ]
    }
   ],
   "source": [
    "df = generate_cost_estimate(df, CostRate)"
   ]
  },
  {
   "cell_type": "code",
   "execution_count": 42,
   "metadata": {
    "collapsed": true
   },
   "outputs": [],
   "source": [
    "#依類別分出 sub-dataframe\n",
    "df_dorm = df[df.Type == 'dorm']\n",
    "df_rent = df[df.Type == 'rent']\n",
    "df_admin = df[df.Type == 'admin']\n",
    "df_low_usage = df[df.Usage < 10]\n",
    "#以下專注在 df_dorm的分析"
   ]
  },
  {
   "cell_type": "code",
   "execution_count": 43,
   "metadata": {},
   "outputs": [
    {
     "data": {
      "text/html": [
       "<div>\n",
       "<table border=\"1\" class=\"dataframe\">\n",
       "  <thead>\n",
       "    <tr style=\"text-align: right;\">\n",
       "      <th></th>\n",
       "      <th>DateTime</th>\n",
       "      <th>Area</th>\n",
       "      <th>Building</th>\n",
       "      <th>Loop</th>\n",
       "      <th>Type</th>\n",
       "      <th>Usage</th>\n",
       "      <th>Date</th>\n",
       "      <th>Weekday</th>\n",
       "      <th>Time</th>\n",
       "      <th>Week</th>\n",
       "      <th>Cost</th>\n",
       "    </tr>\n",
       "  </thead>\n",
       "  <tbody>\n",
       "    <tr>\n",
       "      <th>19247</th>\n",
       "      <td>2017/09/21 23:00</td>\n",
       "      <td>southArea</td>\n",
       "      <td>dorm_87</td>\n",
       "      <td>mainLoop</td>\n",
       "      <td>dorm</td>\n",
       "      <td>346.00</td>\n",
       "      <td>2017-09-21</td>\n",
       "      <td>4</td>\n",
       "      <td>23:00</td>\n",
       "      <td>38</td>\n",
       "      <td>1038.00</td>\n",
       "    </tr>\n",
       "    <tr>\n",
       "      <th>19367</th>\n",
       "      <td>2017/09/26 23:00</td>\n",
       "      <td>southArea</td>\n",
       "      <td>dorm_87</td>\n",
       "      <td>mainLoop</td>\n",
       "      <td>dorm</td>\n",
       "      <td>348.00</td>\n",
       "      <td>2017-09-26</td>\n",
       "      <td>2</td>\n",
       "      <td>23:00</td>\n",
       "      <td>39</td>\n",
       "      <td>1044.00</td>\n",
       "    </tr>\n",
       "    <tr>\n",
       "      <th>19343</th>\n",
       "      <td>2017/09/25 23:00</td>\n",
       "      <td>southArea</td>\n",
       "      <td>dorm_87</td>\n",
       "      <td>mainLoop</td>\n",
       "      <td>dorm</td>\n",
       "      <td>350.00</td>\n",
       "      <td>2017-09-25</td>\n",
       "      <td>1</td>\n",
       "      <td>23:00</td>\n",
       "      <td>39</td>\n",
       "      <td>1050.00</td>\n",
       "    </tr>\n",
       "    <tr>\n",
       "      <th>1955</th>\n",
       "      <td>2017/09/11 11:00</td>\n",
       "      <td>southArea</td>\n",
       "      <td>dorm_13</td>\n",
       "      <td>club</td>\n",
       "      <td>dorm</td>\n",
       "      <td>1039.70</td>\n",
       "      <td>2017-09-11</td>\n",
       "      <td>1</td>\n",
       "      <td>11:00</td>\n",
       "      <td>37</td>\n",
       "      <td>3119.10</td>\n",
       "    </tr>\n",
       "    <tr>\n",
       "      <th>6277</th>\n",
       "      <td>2017/10/19 13:00</td>\n",
       "      <td>northArea</td>\n",
       "      <td>dorm_10</td>\n",
       "      <td>studentHall</td>\n",
       "      <td>dorm</td>\n",
       "      <td>55471.62</td>\n",
       "      <td>2017-10-19</td>\n",
       "      <td>4</td>\n",
       "      <td>13:00</td>\n",
       "      <td>42</td>\n",
       "      <td>166414.86</td>\n",
       "    </tr>\n",
       "  </tbody>\n",
       "</table>\n",
       "</div>"
      ],
      "text/plain": [
       "               DateTime       Area Building         Loop  Type     Usage  \\\n",
       "19247  2017/09/21 23:00  southArea  dorm_87     mainLoop  dorm    346.00   \n",
       "19367  2017/09/26 23:00  southArea  dorm_87     mainLoop  dorm    348.00   \n",
       "19343  2017/09/25 23:00  southArea  dorm_87     mainLoop  dorm    350.00   \n",
       "1955   2017/09/11 11:00  southArea  dorm_13         club  dorm   1039.70   \n",
       "6277   2017/10/19 13:00  northArea  dorm_10  studentHall  dorm  55471.62   \n",
       "\n",
       "            Date  Weekday   Time  Week       Cost  \n",
       "19247 2017-09-21        4  23:00    38    1038.00  \n",
       "19367 2017-09-26        2  23:00    39    1044.00  \n",
       "19343 2017-09-25        1  23:00    39    1050.00  \n",
       "1955  2017-09-11        1  11:00    37    3119.10  \n",
       "6277  2017-10-19        4  13:00    42  166414.86  "
      ]
     },
     "execution_count": 43,
     "metadata": {},
     "output_type": "execute_result"
    }
   ],
   "source": [
    "# 找離群值：找出最大的五個值，用肉眼可以看出離群值\n",
    "df_dorm.sort_values('Usage')[-5:]"
   ]
  },
  {
   "cell_type": "code",
   "execution_count": 44,
   "metadata": {},
   "outputs": [
    {
     "data": {
      "text/plain": [
       "DateTime       2017/10/19 13:00\n",
       "Area                  northArea\n",
       "Building                dorm_10\n",
       "Loop                studentHall\n",
       "Type                       dorm\n",
       "Usage                      0.87\n",
       "Date        2017-10-19 00:00:00\n",
       "Weekday                       4\n",
       "Time                      13:00\n",
       "Week                         42\n",
       "Cost                       2.61\n",
       "Name: 6277, dtype: object"
      ]
     },
     "execution_count": 44,
     "metadata": {},
     "output_type": "execute_result"
    }
   ],
   "source": [
    "# 手動改離群值，如果離群值太多得用更完整的方式\n",
    "df.loc[6277,'Usage']  = 0.87 \n",
    "df.loc[6277,'Cost']  = df.loc[6277,'Usage'] * CostRate\n",
    "\n",
    "df.iloc[6277]\n",
    "# 看這印出來多整齊 :D"
   ]
  },
  {
   "cell_type": "code",
   "execution_count": 45,
   "metadata": {},
   "outputs": [
    {
     "name": "stdout",
     "output_type": "stream",
     "text": [
      "0.00    2045\n",
      "0.25       6\n",
      "0.26       4\n",
      "0.24       3\n",
      "0.19       3\n",
      "0.22       2\n",
      "0.21       2\n",
      "0.20       2\n",
      "0.01       1\n",
      "5.41       1\n",
      "3.24       1\n",
      "Name: Usage, dtype: int64\n"
     ]
    }
   ],
   "source": [
    "# 這天的離群值，猜測來自之前欄位的位移\n",
    "# 驗證：看之前欄位的值，有2145筆是零\n",
    "print(df.iloc[4207:6277].Usage.value_counts())"
   ]
  },
  {
   "cell_type": "markdown",
   "metadata": {},
   "source": [
    "## Part 1: Understand our data"
   ]
  },
  {
   "cell_type": "code",
   "execution_count": 46,
   "metadata": {},
   "outputs": [
    {
     "name": "stdout",
     "output_type": "stream",
     "text": [
      ">>>DateTime has 1704 unique values:\n",
      ">>>Area has 2 unique values:\n",
      "array(['southArea', 'northArea'], dtype=object)\n",
      ">>>Building has 12 unique values:\n",
      "array(['dorm_13', 'dorm_10', 'dorm_chu', 'dorm_9', 'dorm_11_graduate_1',\n",
      "       'dorm_11', 'dorm_graduate_1', 'dorm_87', 'dorm_7', 'dorm_8',\n",
      "       'dorm_12', 'dorm_graduate_2'], dtype=object)\n",
      ">>>Loop has 4 unique values:\n",
      "array(['club', 'socialHall', 'studentHall', 'mainLoop'], dtype=object)\n",
      ">>>Type has 1 unique values:\n",
      "array(['dorm'], dtype=object)\n",
      ">>>Usage has 2623 unique values:\n",
      ">>>Date has 71 unique values:\n",
      ">>>Weekday has 7 unique values:\n",
      "array([5, 6, 7, 1, 2, 3, 4])\n",
      ">>>Time has 24 unique values:\n",
      "array(['00:00', '01:00', '02:00', '03:00', '04:00', '05:00', '06:00',\n",
      "       '07:00', '08:00', '09:00', '10:00', '11:00', '12:00', '13:00',\n",
      "       '14:00', '15:00', '16:00', '17:00', '18:00', '19:00', '20:00',\n",
      "       '21:00', '22:00', '23:00'], dtype=object)\n",
      ">>>Week has 11 unique values:\n",
      "array([35, 36, 37, 38, 39, 40, 41, 42, 43, 44, 45])\n",
      ">>>Cost has 2623 unique values:\n"
     ]
    }
   ],
   "source": [
    "# 用自訂函式去理解DF中每個欄位有哪幾種類別的值\n",
    "def understand(df):\n",
    "    for col_name in df.columns:\n",
    "        print ('>>>{} has {} unique values:'.format(col_name, len(df[col_name].unique())))\n",
    "        if(len(df[col_name].unique())<50):\n",
    "            pprint.pprint(df[col_name].unique())\n",
    "#         print(df[col_name].value_counts)\n",
    "\n",
    "understand(df_dorm)"
   ]
  },
  {
   "cell_type": "markdown",
   "metadata": {},
   "source": [
    "# Part 2 Dorm 12 分析\n",
    "想想看一棟大樓的資料趨勢，可以做哪些分析？分開嘗試之後，下一步是寫成一個 function，只要餵進df，就把這些分析都跑一次"
   ]
  },
  {
   "cell_type": "code",
   "execution_count": 47,
   "metadata": {},
   "outputs": [],
   "source": [
    "df_dorm_12 = df[df.Building == 'dorm_12']"
   ]
  },
  {
   "cell_type": "code",
   "execution_count": 48,
   "metadata": {},
   "outputs": [
    {
     "name": "stdout",
     "output_type": "stream",
     "text": [
      ">>>DateTime has 1704 unique values:\n",
      ">>>Area has 1 unique values:\n",
      "array(['southArea'], dtype=object)\n",
      ">>>Building has 1 unique values:\n",
      "array(['dorm_12'], dtype=object)\n",
      ">>>Loop has 1 unique values:\n",
      "array(['mainLoop'], dtype=object)\n",
      ">>>Type has 1 unique values:\n",
      "array(['dorm'], dtype=object)\n",
      ">>>Usage has 336 unique values:\n",
      ">>>Date has 71 unique values:\n",
      ">>>Weekday has 7 unique values:\n",
      "array([5, 6, 7, 1, 2, 3, 4])\n",
      ">>>Time has 24 unique values:\n",
      "array(['00:00', '01:00', '02:00', '03:00', '04:00', '05:00', '06:00',\n",
      "       '07:00', '08:00', '09:00', '10:00', '11:00', '12:00', '13:00',\n",
      "       '14:00', '15:00', '16:00', '17:00', '18:00', '19:00', '20:00',\n",
      "       '21:00', '22:00', '23:00'], dtype=object)\n",
      ">>>Week has 11 unique values:\n",
      "array([35, 36, 37, 38, 39, 40, 41, 42, 43, 44, 45])\n",
      ">>>Cost has 336 unique values:\n"
     ]
    }
   ],
   "source": [
    "understand(df_dorm_12)"
   ]
  },
  {
   "cell_type": "code",
   "execution_count": 49,
   "metadata": {},
   "outputs": [
    {
     "data": {
      "text/html": [
       "<div>\n",
       "<table border=\"1\" class=\"dataframe\">\n",
       "  <thead>\n",
       "    <tr style=\"text-align: right;\">\n",
       "      <th></th>\n",
       "      <th>Usage</th>\n",
       "      <th>Weekday</th>\n",
       "      <th>Week</th>\n",
       "      <th>Cost</th>\n",
       "    </tr>\n",
       "  </thead>\n",
       "  <tbody>\n",
       "    <tr>\n",
       "      <th>count</th>\n",
       "      <td>1704.000000</td>\n",
       "      <td>1704.000000</td>\n",
       "      <td>1704.000000</td>\n",
       "      <td>1704.000000</td>\n",
       "    </tr>\n",
       "    <tr>\n",
       "      <th>mean</th>\n",
       "      <td>96.243545</td>\n",
       "      <td>4.014085</td>\n",
       "      <td>40.140845</td>\n",
       "      <td>288.730634</td>\n",
       "    </tr>\n",
       "    <tr>\n",
       "      <th>std</th>\n",
       "      <td>38.961526</td>\n",
       "      <td>1.989943</td>\n",
       "      <td>2.952571</td>\n",
       "      <td>116.884579</td>\n",
       "    </tr>\n",
       "    <tr>\n",
       "      <th>min</th>\n",
       "      <td>19.000000</td>\n",
       "      <td>1.000000</td>\n",
       "      <td>35.000000</td>\n",
       "      <td>57.000000</td>\n",
       "    </tr>\n",
       "    <tr>\n",
       "      <th>25%</th>\n",
       "      <td>69.000000</td>\n",
       "      <td>2.000000</td>\n",
       "      <td>38.000000</td>\n",
       "      <td>207.000000</td>\n",
       "    </tr>\n",
       "    <tr>\n",
       "      <th>50%</th>\n",
       "      <td>90.000000</td>\n",
       "      <td>4.000000</td>\n",
       "      <td>40.000000</td>\n",
       "      <td>270.000000</td>\n",
       "    </tr>\n",
       "    <tr>\n",
       "      <th>75%</th>\n",
       "      <td>120.500000</td>\n",
       "      <td>6.000000</td>\n",
       "      <td>43.000000</td>\n",
       "      <td>361.500000</td>\n",
       "    </tr>\n",
       "    <tr>\n",
       "      <th>max</th>\n",
       "      <td>238.500000</td>\n",
       "      <td>7.000000</td>\n",
       "      <td>45.000000</td>\n",
       "      <td>715.500000</td>\n",
       "    </tr>\n",
       "  </tbody>\n",
       "</table>\n",
       "</div>"
      ],
      "text/plain": [
       "             Usage      Weekday         Week         Cost\n",
       "count  1704.000000  1704.000000  1704.000000  1704.000000\n",
       "mean     96.243545     4.014085    40.140845   288.730634\n",
       "std      38.961526     1.989943     2.952571   116.884579\n",
       "min      19.000000     1.000000    35.000000    57.000000\n",
       "25%      69.000000     2.000000    38.000000   207.000000\n",
       "50%      90.000000     4.000000    40.000000   270.000000\n",
       "75%     120.500000     6.000000    43.000000   361.500000\n",
       "max     238.500000     7.000000    45.000000   715.500000"
      ]
     },
     "execution_count": 49,
     "metadata": {},
     "output_type": "execute_result"
    }
   ],
   "source": [
    "df_dorm_12.describe()"
   ]
  },
  {
   "cell_type": "code",
   "execution_count": 50,
   "metadata": {},
   "outputs": [
    {
     "data": {
      "text/plain": [
       "<matplotlib.text.Text at 0x1175e59e8>"
      ]
     },
     "execution_count": 50,
     "metadata": {},
     "output_type": "execute_result"
    }
   ],
   "source": [
    "# 71 天每小時的用電資料 (1704個點)\n",
    "df_dorm_12.Usage.plot(legend = True)\n",
    "(df_dorm_12.Weekday * 30).plot(legend = True)\n",
    "# plt.xlabel('index')\n",
    "plt.title('Hourly Usage of Dorm 12', fontsize = 20)\n",
    "pylab.ylabel('Usage(In degree)',fontsize = 16)\n",
    "pylab.xlabel('Time',fontsize = 16)"
   ]
  },
  {
   "cell_type": "markdown",
   "metadata": {},
   "source": [
    "### 觀察\n",
    "- 週末的時候，通常用電比較低\n",
    "- 圖片中間有個低潮，應該是國慶連假"
   ]
  },
  {
   "cell_type": "code",
   "execution_count": 51,
   "metadata": {},
   "outputs": [
    {
     "data": {
      "text/plain": [
       "<matplotlib.text.Text at 0x1175e59e8>"
      ]
     },
     "execution_count": 51,
     "metadata": {},
     "output_type": "execute_result"
    }
   ],
   "source": [
    "df_dorm_12_byWeekday = df_dorm_12.groupby('Weekday').mean()\n",
    "df_dorm_12_byWeekday.Usage.plot.bar(legend = True)\n",
    "\n",
    "plt.title('Dorm 12: Average Usage Group by Weekday', fontsize = 20)\n",
    "pylab.ylabel('Usage(In degree)',fontsize = 16)\n",
    "pylab.xlabel('Weekday',fontsize = 16)"
   ]
  },
  {
   "cell_type": "markdown",
   "metadata": {},
   "source": [
    "### 觀察\n",
    "- 週六大家回家，平均用電最低\n",
    "- 週日回宿舍，用電比週六週五高"
   ]
  },
  {
   "cell_type": "code",
   "execution_count": 52,
   "metadata": {},
   "outputs": [
    {
     "data": {
      "text/plain": [
       "<matplotlib.text.Text at 0x1175e59e8>"
      ]
     },
     "execution_count": 52,
     "metadata": {},
     "output_type": "execute_result"
    }
   ],
   "source": [
    "df_dorm_12_byWeekday = df_dorm_12.groupby('Weekday').sum()\n",
    "df_dorm_12_byWeekday.Usage.plot.bar(legend = True, color = 'green')\n",
    "\n",
    "plt.title('Dorm 12: Total Usage Group by Weekday', fontsize = 20)\n",
    "pylab.ylabel('Usage(In degree)',fontsize = 16)\n",
    "pylab.xlabel('Weekday',fontsize = 16)"
   ]
  },
  {
   "cell_type": "markdown",
   "metadata": {},
   "source": [
    "### 觀察\n",
    "- 週五的平均值略小於週日，但總和超過，原因發現是資料裡面有比較多筆週五資料"
   ]
  },
  {
   "cell_type": "code",
   "execution_count": 53,
   "metadata": {},
   "outputs": [
    {
     "data": {
      "text/plain": [
       "5    264\n",
       "7    240\n",
       "6    240\n",
       "4    240\n",
       "3    240\n",
       "2    240\n",
       "1    240\n",
       "Name: Weekday, dtype: int64"
      ]
     },
     "execution_count": 53,
     "metadata": {},
     "output_type": "execute_result"
    }
   ],
   "source": [
    "df_dorm_12.Weekday.value_counts()"
   ]
  },
  {
   "cell_type": "code",
   "execution_count": 54,
   "metadata": {},
   "outputs": [
    {
     "data": {
      "text/plain": [
       "<matplotlib.text.Text at 0x1175e59e8>"
      ]
     },
     "execution_count": 54,
     "metadata": {},
     "output_type": "execute_result"
    }
   ],
   "source": [
    "df_dorm_12.groupby('Time').Usage.mean().plot.bar(legend = True)\n",
    "plt.title('Dorm 12: Average Usage Group by Hours', fontsize = 20)\n",
    "pylab.ylabel('Usage(In degree)',fontsize = 16)\n",
    "pylab.xlabel('Time',fontsize = 16)"
   ]
  },
  {
   "cell_type": "markdown",
   "metadata": {},
   "source": [
    "### 觀察\n",
    "- 這張是我覺得最有趣的，想法：可以拿去跟男生十舍比，看十二舍的人是不是比較早睡（省電）\n",
    "- 最高用電落在晚上十一點到十二點。十二點會關燈。\n",
    "- 關燈之後的下跌應該就是人為用電的減少（去睡覺了），人為用電除了桌電、吹風機以外，不知道洗澡熱水器有沒有被算在內？\n",
    "- 早上七點起床有個Peak，可能是洗澡或開燈\n",
    "- 中午十二點也有Peak，可能是回宿舍吃中飯\n",
    "- 晚上六點開燈，所以用電升幅大"
   ]
  },
  {
   "cell_type": "code",
   "execution_count": 55,
   "metadata": {},
   "outputs": [
    {
     "data": {
      "text/plain": [
       "<matplotlib.text.Text at 0x1175e59e8>"
      ]
     },
     "execution_count": 55,
     "metadata": {},
     "output_type": "execute_result"
    }
   ],
   "source": [
    "df_dorm_12_dailysum_sorted = df_dorm_12.groupby('Date').sum().sort_values('Usage')\n",
    "df_dorm_12_dailysum_sorted.Weekday = df_dorm_12_dailysum_sorted.Weekday/24\n",
    "df_dorm_12_dailysum_sorted.Usage.plot.bar(legend = True)\n",
    "plt.title('Dorm 12: Total Daily Usage Sorted', fontsize = 20)\n",
    "pylab.ylabel('Usage(In degree)',fontsize = 16)\n",
    "pylab.xlabel('Date',fontsize = 16)"
   ]
  },
  {
   "cell_type": "code",
   "execution_count": 56,
   "metadata": {},
   "outputs": [
    {
     "data": {
      "text/plain": [
       "<matplotlib.text.Text at 0x1175e59e8>"
      ]
     },
     "execution_count": 56,
     "metadata": {},
     "output_type": "execute_result"
    }
   ],
   "source": [
    "df_dorm_12_dailymean_sorted = df_dorm_12.groupby('Date').mean().sort_values('Usage')\n",
    "df_dorm_12_dailymean_sorted.Usage.plot.bar(legend = True)\n",
    "plt.title('Dorm 12: Average Daily Usage Sorted', fontsize = 20)\n",
    "pylab.ylabel('Usage(In degree)',fontsize = 16)\n",
    "pylab.xlabel('Date',fontsize = 16)"
   ]
  },
  {
   "cell_type": "code",
   "execution_count": 57,
   "metadata": {},
   "outputs": [
    {
     "name": "stdout",
     "output_type": "stream",
     "text": [
      "Top 10 daily TOTAL use of dorm 12. From 9.01 - 11.10\n",
      "             Usage  Weekday  Week    Cost\n",
      "Date                                     \n",
      "2017-09-12  2821.5      2.0   888  8464.5\n",
      "2017-09-21  2973.5      4.0   912  8920.5\n",
      "2017-10-03  2981.0      2.0   960  8943.0\n",
      "2017-10-04  3003.0      3.0   960  9009.0\n",
      "2017-09-25  3019.0      1.0   936  9057.0\n",
      "2017-10-02  3100.0      1.0   960  9300.0\n",
      "2017-09-27  3105.0      3.0   936  9315.0\n",
      "2017-09-26  3108.0      2.0   936  9324.0\n",
      "2017-09-28  3150.0      4.0   936  9450.0\n",
      "2017-10-11  3189.5      3.0   984  9568.5\n",
      "Top 10 daily AVERAGE use of dorm 12. From 9.01 - 11.10\n",
      "                 Usage  Weekday  Week      Cost\n",
      "Date                                           \n",
      "2017-09-12  117.562500        2    37  352.6875\n",
      "2017-09-21  123.895833        4    38  371.6875\n",
      "2017-10-03  124.208333        2    40  372.6250\n",
      "2017-10-04  125.125000        3    40  375.3750\n",
      "2017-09-25  125.791667        1    39  377.3750\n",
      "2017-10-02  129.166667        1    40  387.5000\n",
      "2017-09-27  129.375000        3    39  388.1250\n",
      "2017-09-26  129.500000        2    39  388.5000\n",
      "2017-09-28  131.250000        4    39  393.7500\n",
      "2017-10-11  132.895833        3    41  398.6875\n"
     ]
    }
   ],
   "source": [
    "# 最高用電的幾天是...\n",
    "# TBD: 為什麼這幾天會比較高呢？\n",
    "print('Top 10 daily TOTAL use of dorm 12. From 9.01 - 11.10')\n",
    "print(df_dorm_12_dailysum_sorted[-10:])\n",
    "print('Top 10 daily AVERAGE use of dorm 12. From 9.01 - 11.10')\n",
    "print(df_dorm_12_dailymean_sorted[-10:])"
   ]
  },
  {
   "cell_type": "markdown",
   "metadata": {},
   "source": [
    "觀察：其實最高用電的前十個日子，用平均或總合來看是一樣的。"
   ]
  },
  {
   "cell_type": "code",
   "execution_count": 58,
   "metadata": {},
   "outputs": [
    {
     "data": {
      "text/plain": [
       "<matplotlib.text.Text at 0x1175e59e8>"
      ]
     },
     "execution_count": 58,
     "metadata": {},
     "output_type": "execute_result"
    }
   ],
   "source": [
    "df_dorm_12_sorted_top200 = df_dorm_12.sort_values('Usage')[-200:]\n",
    "df_dorm_12_sorted_top200.Usage.plot.bar()\n",
    "plt.title('Dorm 12: Top 200 Hourly Usage Sorted', fontsize = 20)\n",
    "pylab.ylabel('Usage(In degree)',fontsize = 16)\n",
    "pylab.xlabel('Date',fontsize = 16)"
   ]
  },
  {
   "cell_type": "code",
   "execution_count": 59,
   "metadata": {},
   "outputs": [
    {
     "data": {
      "text/plain": [
       "22:00    39\n",
       "23:00    37\n",
       "21:00    31\n",
       "00:00    24\n",
       "20:00    20\n",
       "01:00    15\n",
       "19:00    15\n",
       "02:00     8\n",
       "18:00     6\n",
       "12:00     2\n",
       "03:00     2\n",
       "16:00     1\n",
       "Name: Time, dtype: int64"
      ]
     },
     "execution_count": 59,
     "metadata": {},
     "output_type": "execute_result"
    }
   ],
   "source": [
    "# 哪小時最耗電？\n",
    "df_dorm_12_sorted_top200.Time.value_counts()"
   ]
  },
  {
   "cell_type": "code",
   "execution_count": 60,
   "metadata": {},
   "outputs": [
    {
     "data": {
      "text/plain": [
       "3    45\n",
       "2    45\n",
       "4    40\n",
       "1    33\n",
       "7    21\n",
       "5    14\n",
       "6     2\n",
       "Name: Weekday, dtype: int64"
      ]
     },
     "execution_count": 60,
     "metadata": {},
     "output_type": "execute_result"
    }
   ],
   "source": [
    "# 星期幾最耗電？\n",
    "df_dorm_12_sorted_top200.Weekday.value_counts()"
   ]
  },
  {
   "cell_type": "code",
   "execution_count": 61,
   "metadata": {},
   "outputs": [
    {
     "data": {
      "text/html": [
       "<div>\n",
       "<table border=\"1\" class=\"dataframe\">\n",
       "  <thead>\n",
       "    <tr style=\"text-align: right;\">\n",
       "      <th></th>\n",
       "      <th>DateTime</th>\n",
       "      <th>Area</th>\n",
       "      <th>Building</th>\n",
       "      <th>Loop</th>\n",
       "      <th>Type</th>\n",
       "      <th>Usage</th>\n",
       "      <th>Date</th>\n",
       "      <th>Weekday</th>\n",
       "      <th>Time</th>\n",
       "      <th>Week</th>\n",
       "      <th>Cost</th>\n",
       "    </tr>\n",
       "  </thead>\n",
       "  <tbody>\n",
       "    <tr>\n",
       "      <th>24118</th>\n",
       "      <td>2017/09/11 22:00</td>\n",
       "      <td>southArea</td>\n",
       "      <td>dorm_12</td>\n",
       "      <td>mainLoop</td>\n",
       "      <td>dorm</td>\n",
       "      <td>238.5</td>\n",
       "      <td>2017-09-11</td>\n",
       "      <td>1</td>\n",
       "      <td>22:00</td>\n",
       "      <td>37</td>\n",
       "      <td>715.5</td>\n",
       "    </tr>\n",
       "  </tbody>\n",
       "</table>\n",
       "</div>"
      ],
      "text/plain": [
       "               DateTime       Area Building      Loop  Type  Usage       Date  \\\n",
       "24118  2017/09/11 22:00  southArea  dorm_12  mainLoop  dorm  238.5 2017-09-11   \n",
       "\n",
       "       Weekday   Time  Week   Cost  \n",
       "24118        1  22:00    37  715.5  "
      ]
     },
     "execution_count": 61,
     "metadata": {},
     "output_type": "execute_result"
    }
   ],
   "source": [
    "\n",
    "\n",
    "df_dorm_12_sorted_top200[-10:].Cost.plot.bar()\n",
    "#發現有一天真的特耗電\n",
    "\n",
    "df_dorm_12_sorted_top200[-1:]\n",
    "# 2017/09/11 22:00 用電是 238.5, (12舍平均用電是96)"
   ]
  },
  {
   "cell_type": "markdown",
   "metadata": {},
   "source": [
    "2017/9/11 為什麼用那麼多電呢？\n",
    "我去查了日曆，原來是開學日啊！"
   ]
  },
  {
   "cell_type": "code",
   "execution_count": 62,
   "metadata": {},
   "outputs": [
    {
     "data": {
      "text/plain": [
       "<matplotlib.axes._subplots.AxesSubplot at 0x119031f60>"
      ]
     },
     "execution_count": 62,
     "metadata": {},
     "output_type": "execute_result"
    }
   ],
   "source": [
    "# 觀看某一個小時的用電量，在每天的變化\n",
    "\n",
    "# df_dorm_12[df_dorm_12.Time == '23:00'].info()\n",
    "fig, axes = plt.subplots(nrows=2, ncols=2)\n",
    "df_dorm_12[df_dorm_12.Time == '20:00'].Cost.plot(ax=axes[0,0],title = 'Dorm 12: Everyday Usage on 20:00')\n",
    "df_dorm_12[df_dorm_12.Time == '21:00'].Cost.plot(ax=axes[0,1],title = 'Dorm 12: Everyday Usage on 21:00')\n",
    "df_dorm_12[df_dorm_12.Time == '22:00'].Cost.plot(ax=axes[1,0],title = 'Dorm 12: Everyday Usage on 22:00')\n",
    "df_dorm_12[df_dorm_12.Time == '23:00'].Cost.plot(ax=axes[1,1],title = 'Dorm 12: Everyday Usage on 23:00')\n"
   ]
  },
  {
   "cell_type": "code",
   "execution_count": 63,
   "metadata": {},
   "outputs": [
    {
     "data": {
      "text/plain": [
       "<matplotlib.text.Text at 0x11903c2e8>"
      ]
     },
     "execution_count": 63,
     "metadata": {},
     "output_type": "execute_result"
    }
   ],
   "source": [
    "# 未完成\n",
    "# 觀看24小時分別的用電量，在每天的變化\n",
    "\n",
    "\n",
    "df_dorm_12.Time.unique()\n",
    "morning = ['01:00', '02:00', '03:00', '04:00', '05:00', '06:00','07:00', '08:00']\n",
    "afternoon = ['09:00', '10:00', '11:00', '12:00', '13:00', '14:00', '15:00', '16:00']\n",
    "night = [ '17:00', '18:00', '19:00', '20:00', '21:00', '22:00', '23:00','00:00']\n",
    "# df_dorm_12.Time.item in ['18:00','19:00']\n",
    "# df_dorm_12_byTime_m = df_dorm_12[df_dorm_12.Time.valus in morning].groupby('Time')\n",
    "# df_dorm_12_byTime_a = df_dorm_12[df_dorm_12.Time in afternoon].groupby('Time')\n",
    "# df_dorm_12_byTime_n = df_dorm_12[df_dorm_12.Time in night].groupby('Time')\n",
    "\n",
    "df_dorm_12_byTime = df_dorm_12.groupby('Time')\n",
    "df_dorm_12_byTime.Usage.plot()\n",
    "plt.title('Every day Uasge in __:00', fontsize = 20)\n",
    "pylab.ylabel('Usage(In degree)',fontsize = 16)\n",
    "pylab.xlabel('Day',fontsize = 16)\n",
    "\n",
    "\n",
    "# bins = [0, 5, 15, 30]\n",
    "# names = ['Cheap', 'Normal', 'Expensive']\n",
    "# df_dorm_12_byTime_m = pd.cut(df_dorm_12.Time,bins, labels=morning)"
   ]
  },
  {
   "cell_type": "code",
   "execution_count": 64,
   "metadata": {},
   "outputs": [
    {
     "data": {
      "text/plain": [
       "Week\n",
       "35    Axes(0.547727,0.125;0.352273x0.352273)\n",
       "36    Axes(0.547727,0.125;0.352273x0.352273)\n",
       "37    Axes(0.547727,0.125;0.352273x0.352273)\n",
       "38    Axes(0.547727,0.125;0.352273x0.352273)\n",
       "39    Axes(0.547727,0.125;0.352273x0.352273)\n",
       "40    Axes(0.547727,0.125;0.352273x0.352273)\n",
       "41    Axes(0.547727,0.125;0.352273x0.352273)\n",
       "42    Axes(0.547727,0.125;0.352273x0.352273)\n",
       "43    Axes(0.547727,0.125;0.352273x0.352273)\n",
       "44    Axes(0.547727,0.125;0.352273x0.352273)\n",
       "45    Axes(0.547727,0.125;0.352273x0.352273)\n",
       "Name: Usage, dtype: object"
      ]
     },
     "execution_count": 64,
     "metadata": {},
     "output_type": "execute_result"
    }
   ],
   "source": [
    "df_dorm_12.groupby(['Week']).Usage.plot(legend = True)\n",
    "#.Usage.plot(legend = True)"
   ]
  },
  {
   "cell_type": "code",
   "execution_count": 65,
   "metadata": {},
   "outputs": [
    {
     "data": {
      "text/plain": [
       "<matplotlib.axes._subplots.AxesSubplot at 0x119031f60>"
      ]
     },
     "execution_count": 65,
     "metadata": {},
     "output_type": "execute_result"
    }
   ],
   "source": [
    "# df_dorm_12.groupby('Date').sum().Usage.plot.bar()\n",
    "df_dorm_12.groupby('Date').mean().Usage.plot.bar()"
   ]
  },
  {
   "cell_type": "code",
   "execution_count": null,
   "metadata": {},
   "outputs": [],
   "source": []
  },
  {
   "cell_type": "code",
   "execution_count": null,
   "metadata": {},
   "outputs": [],
   "source": []
  },
  {
   "cell_type": "code",
   "execution_count": null,
   "metadata": {
    "collapsed": true
   },
   "outputs": [],
   "source": []
  }
 ],
 "metadata": {
  "anaconda-cloud": {},
  "kernelspec": {
   "display_name": "Python [default]",
   "language": "python",
   "name": "python3"
  }
 },
 "nbformat": 4,
 "nbformat_minor": 2
}
