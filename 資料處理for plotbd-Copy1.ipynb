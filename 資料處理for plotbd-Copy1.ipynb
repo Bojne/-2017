{
 "cells": [
  {
   "cell_type": "code",
   "execution_count": 5,
   "metadata": {},
   "outputs": [
    {
     "name": "stdout",
     "output_type": "stream",
     "text": [
      "Using matplotlib backend: TkAgg\n",
      "Populating the interactive namespace from numpy and matplotlib\n"
     ]
    }
   ],
   "source": [
    "import pandas as pd\n",
    "import numpy as np\n",
    "%matplotlib \n",
    "%pylab inline\n",
    "pylab.rcParams['figure.figsize'] = (20, 8) #Make figure larger."
   ]
  },
  {
   "cell_type": "code",
   "execution_count": 9,
   "metadata": {},
   "outputs": [
    {
     "data": {
      "text/html": [
       "<div>\n",
       "<table border=\"1\" class=\"dataframe\">\n",
       "  <thead>\n",
       "    <tr style=\"text-align: right;\">\n",
       "      <th></th>\n",
       "      <th>date</th>\n",
       "      <th>area</th>\n",
       "      <th>bd_name</th>\n",
       "      <th>loop</th>\n",
       "      <th>type</th>\n",
       "      <th>Usage</th>\n",
       "    </tr>\n",
       "  </thead>\n",
       "  <tbody>\n",
       "    <tr>\n",
       "      <th>0</th>\n",
       "      <td>2017/08</td>\n",
       "      <td>北區</td>\n",
       "      <td>體育館</td>\n",
       "      <td>主迴路</td>\n",
       "      <td>行政</td>\n",
       "      <td>39249.63</td>\n",
       "    </tr>\n",
       "    <tr>\n",
       "      <th>1</th>\n",
       "      <td>2017/08</td>\n",
       "      <td>北區</td>\n",
       "      <td>體育館</td>\n",
       "      <td>司令台</td>\n",
       "      <td>行政</td>\n",
       "      <td>1757.34</td>\n",
       "    </tr>\n",
       "    <tr>\n",
       "      <th>2</th>\n",
       "      <td>2017/08</td>\n",
       "      <td>北區</td>\n",
       "      <td>體育館</td>\n",
       "      <td>籃排球場</td>\n",
       "      <td>行政</td>\n",
       "      <td>949.59</td>\n",
       "    </tr>\n",
       "    <tr>\n",
       "      <th>3</th>\n",
       "      <td>2017/08</td>\n",
       "      <td>北區</td>\n",
       "      <td>環保大樓</td>\n",
       "      <td>主迴路</td>\n",
       "      <td>教學</td>\n",
       "      <td>73856.03</td>\n",
       "    </tr>\n",
       "    <tr>\n",
       "      <th>4</th>\n",
       "      <td>2017/08</td>\n",
       "      <td>南區</td>\n",
       "      <td>機車Ｈ棚</td>\n",
       "      <td>主迴路</td>\n",
       "      <td>行政</td>\n",
       "      <td>0.00</td>\n",
       "    </tr>\n",
       "  </tbody>\n",
       "</table>\n",
       "</div>"
      ],
      "text/plain": [
       "      date                  area               bd_name                  loop  \\\n",
       "0  2017/08  北區                    體育館                   主迴路                    \n",
       "1  2017/08  北區                    體育館                   司令台                    \n",
       "2  2017/08  北區                    體育館                   籃排球場                   \n",
       "3  2017/08  北區                    環保大樓                  主迴路                    \n",
       "4  2017/08  南區                    機車Ｈ棚                  主迴路                    \n",
       "\n",
       "                   type     Usage  \n",
       "0  行政                    39249.63  \n",
       "1  行政                     1757.34  \n",
       "2  行政                      949.59  \n",
       "3  教學                    73856.03  \n",
       "4  行政                        0.00  "
      ]
     },
     "execution_count": 9,
     "metadata": {},
     "output_type": "execute_result"
    }
   ],
   "source": [
    "df = pd.read_csv('./data/allbd＿by12month.csv')\n",
    "df.head()"
   ]
  },
  {
   "cell_type": "code",
   "execution_count": 19,
   "metadata": {},
   "outputs": [
    {
     "data": {
      "text/html": [
       "<div>\n",
       "<table border=\"1\" class=\"dataframe\">\n",
       "  <thead>\n",
       "    <tr style=\"text-align: right;\">\n",
       "      <th></th>\n",
       "      <th>Usage</th>\n",
       "    </tr>\n",
       "  </thead>\n",
       "  <tbody>\n",
       "    <tr>\n",
       "      <th>count</th>\n",
       "      <td>1.228000e+03</td>\n",
       "    </tr>\n",
       "    <tr>\n",
       "      <th>mean</th>\n",
       "      <td>2.008185e+06</td>\n",
       "    </tr>\n",
       "    <tr>\n",
       "      <th>std</th>\n",
       "      <td>2.227297e+07</td>\n",
       "    </tr>\n",
       "    <tr>\n",
       "      <th>min</th>\n",
       "      <td>0.000000e+00</td>\n",
       "    </tr>\n",
       "    <tr>\n",
       "      <th>25%</th>\n",
       "      <td>1.561208e+03</td>\n",
       "    </tr>\n",
       "    <tr>\n",
       "      <th>50%</th>\n",
       "      <td>1.489160e+04</td>\n",
       "    </tr>\n",
       "    <tr>\n",
       "      <th>75%</th>\n",
       "      <td>7.130383e+04</td>\n",
       "    </tr>\n",
       "    <tr>\n",
       "      <th>max</th>\n",
       "      <td>5.545394e+08</td>\n",
       "    </tr>\n",
       "  </tbody>\n",
       "</table>\n",
       "</div>"
      ],
      "text/plain": [
       "              Usage\n",
       "count  1.228000e+03\n",
       "mean   2.008185e+06\n",
       "std    2.227297e+07\n",
       "min    0.000000e+00\n",
       "25%    1.561208e+03\n",
       "50%    1.489160e+04\n",
       "75%    7.130383e+04\n",
       "max    5.545394e+08"
      ]
     },
     "execution_count": 19,
     "metadata": {},
     "output_type": "execute_result"
    }
   ],
   "source": [
    "df.describe()"
   ]
  },
  {
   "cell_type": "code",
   "execution_count": 10,
   "metadata": {},
   "outputs": [
    {
     "name": "stdout",
     "output_type": "stream",
     "text": [
      "<class 'pandas.core.frame.DataFrame'>\n",
      "RangeIndex: 1228 entries, 0 to 1227\n",
      "Data columns (total 6 columns):\n",
      "date       1228 non-null object\n",
      "area       1228 non-null object\n",
      "bd_name    1228 non-null object\n",
      "loop       1228 non-null object\n",
      "type       1228 non-null object\n",
      "Usage      1228 non-null float64\n",
      "dtypes: float64(1), object(5)\n",
      "memory usage: 57.6+ KB\n",
      "None\n"
     ]
    }
   ],
   "source": [
    "print(df.info())"
   ]
  },
  {
   "cell_type": "code",
   "execution_count": 11,
   "metadata": {},
   "outputs": [
    {
     "data": {
      "text/plain": [
       "第二餐廳                    178\n",
       "活動中心                    116\n",
       "綜合一館                     94\n",
       "女二舍                      84\n",
       "學生十三舍                    48\n",
       "電資大樓                     48\n",
       "體育館                      36\n",
       "中正堂                      36\n",
       "學生十舍                     24\n",
       "圖資中心                     24\n",
       "學生七舍                     24\n",
       "資訊館(北區)                  24\n",
       "管理一館                     12\n",
       "工程一館中繼                   12\n",
       "機車Ａ棚                     12\n",
       "人社一館                     12\n",
       "機車Ｄ棚                     12\n",
       "資訊館(南區)                  12\n",
       "工程四館                     12\n",
       "學生七舍_八舍                  12\n",
       "學生八舍                     12\n",
       "學生十一舍_研一舍                12\n",
       "游泳館                      12\n",
       "研究生一舍                    12\n",
       "工程五館                     12\n",
       "工程二館                     12\n",
       "第一招待所                    12\n",
       "人社二館                     12\n",
       "防災中心                     12\n",
       "土木結構                     12\n",
       "學生九舍                     12\n",
       "行政大樓                     12\n",
       "材料實驗                     12\n",
       "機車Ｈ棚                     12\n",
       "南區總電站                    12\n",
       "綜合球館                     12\n",
       "基礎大樓                     12\n",
       "竹軒宿舍                     12\n",
       "光電大樓                     12\n",
       "科學二館                     12\n",
       "人社二館中繼                   12\n",
       "交映樓                      12\n",
       "工程六館                     12\n",
       "研究生二舍                    12\n",
       "服務大樓                     12\n",
       "科學一館                     12\n",
       "環保大樓                     12\n",
       "學生十二舍                    12\n",
       "學生十一舍                    12\n",
       "工程三館                     12\n",
       "管理二館                     12\n",
       "工程一館                     12\n",
       "污水場                      12\n",
       "Name: bd_name, dtype: int64"
      ]
     },
     "execution_count": 11,
     "metadata": {},
     "output_type": "execute_result"
    }
   ],
   "source": [
    "#檢查有沒有缺值\n",
    "#dinninghall2,ActivityCenter  好像有缺\n",
    "df.bd_name.value_counts()"
   ]
  },
  {
   "cell_type": "code",
   "execution_count": 27,
   "metadata": {},
   "outputs": [
    {
     "data": {
      "text/plain": [
       "date       101\n",
       "area       101\n",
       "bd_name    101\n",
       "loop       101\n",
       "type       101\n",
       "Usage      101\n",
       "dtype: int64"
      ]
     },
     "execution_count": 27,
     "metadata": {},
     "output_type": "execute_result"
    }
   ],
   "source": [
    "df[df.Usage ==0].count() #找哪些"
   ]
  },
  {
   "cell_type": "code",
   "execution_count": 28,
   "metadata": {},
   "outputs": [
    {
     "data": {
      "text/plain": [
       "date       113\n",
       "area       113\n",
       "bd_name    113\n",
       "loop       113\n",
       "type       113\n",
       "Usage      113\n",
       "dtype: int64"
      ]
     },
     "execution_count": 28,
     "metadata": {},
     "output_type": "execute_result"
    }
   ],
   "source": [
    "df[df.Usage <= 100].count() #找哪些"
   ]
  },
  {
   "cell_type": "code",
   "execution_count": 39,
   "metadata": {},
   "outputs": [
    {
     "data": {
      "text/html": [
       "<div>\n",
       "<table border=\"1\" class=\"dataframe\">\n",
       "  <thead>\n",
       "    <tr style=\"text-align: right;\">\n",
       "      <th></th>\n",
       "      <th>date</th>\n",
       "      <th>area</th>\n",
       "      <th>bd_name</th>\n",
       "      <th>loop</th>\n",
       "      <th>type</th>\n",
       "      <th>Usage</th>\n",
       "    </tr>\n",
       "  </thead>\n",
       "  <tbody>\n",
       "    <tr>\n",
       "      <th>382</th>\n",
       "      <td>2017/05</td>\n",
       "      <td>南區</td>\n",
       "      <td>南區總電站</td>\n",
       "      <td></td>\n",
       "      <td>電站</td>\n",
       "      <td>294461000.0</td>\n",
       "    </tr>\n",
       "    <tr>\n",
       "      <th>788</th>\n",
       "      <td>2017/01</td>\n",
       "      <td>南區</td>\n",
       "      <td>南區總電站</td>\n",
       "      <td></td>\n",
       "      <td>電站</td>\n",
       "      <td>294461000.0</td>\n",
       "    </tr>\n",
       "    <tr>\n",
       "      <th>941</th>\n",
       "      <td>2016/11</td>\n",
       "      <td>南區</td>\n",
       "      <td>綜合一館</td>\n",
       "      <td>空大ML燈力</td>\n",
       "      <td>外租</td>\n",
       "      <td>554539400.0</td>\n",
       "    </tr>\n",
       "    <tr>\n",
       "      <th>982</th>\n",
       "      <td>2016/11</td>\n",
       "      <td>北區</td>\n",
       "      <td>活動中心</td>\n",
       "      <td>第一餐聽</td>\n",
       "      <td>外租</td>\n",
       "      <td>117636700.0</td>\n",
       "    </tr>\n",
       "    <tr>\n",
       "      <th>1044</th>\n",
       "      <td>2016/10</td>\n",
       "      <td>南區</td>\n",
       "      <td>綜合一館</td>\n",
       "      <td>空大ML燈力</td>\n",
       "      <td>外租</td>\n",
       "      <td>245510500.0</td>\n",
       "    </tr>\n",
       "    <tr>\n",
       "      <th>1131</th>\n",
       "      <td>2016/09</td>\n",
       "      <td>南區</td>\n",
       "      <td>機車Ａ棚</td>\n",
       "      <td>主迴路</td>\n",
       "      <td>行政</td>\n",
       "      <td>175697100.0</td>\n",
       "    </tr>\n",
       "    <tr>\n",
       "      <th>1147</th>\n",
       "      <td>2016/09</td>\n",
       "      <td>南區</td>\n",
       "      <td>綜合一館</td>\n",
       "      <td>空大ML燈力</td>\n",
       "      <td>外租</td>\n",
       "      <td>114470900.0</td>\n",
       "    </tr>\n",
       "    <tr>\n",
       "      <th>1188</th>\n",
       "      <td>2016/09</td>\n",
       "      <td>北區</td>\n",
       "      <td>活動中心</td>\n",
       "      <td>第一餐聽</td>\n",
       "      <td>外租</td>\n",
       "      <td>90420140.0</td>\n",
       "    </tr>\n",
       "  </tbody>\n",
       "</table>\n",
       "</div>"
      ],
      "text/plain": [
       "         date                  area               bd_name  \\\n",
       "382   2017/05  南區                    南區總電站                  \n",
       "788   2017/01  南區                    南區總電站                  \n",
       "941   2016/11  南區                    綜合一館                   \n",
       "982   2016/11  北區                    活動中心                   \n",
       "1044  2016/10  南區                    綜合一館                   \n",
       "1131  2016/09  南區                    機車Ａ棚                   \n",
       "1147  2016/09  南區                    綜合一館                   \n",
       "1188  2016/09  北區                    活動中心                   \n",
       "\n",
       "                      loop                  type        Usage  \n",
       "382                         電站                    294461000.0  \n",
       "788                         電站                    294461000.0  \n",
       "941   空大ML燈力                外租                    554539400.0  \n",
       "982   第一餐聽                  外租                    117636700.0  \n",
       "1044  空大ML燈力                外租                    245510500.0  \n",
       "1131  主迴路                   行政                    175697100.0  \n",
       "1147  空大ML燈力                外租                    114470900.0  \n",
       "1188  第一餐聽                  外租                     90420140.0  "
      ]
     },
     "execution_count": 39,
     "metadata": {},
     "output_type": "execute_result"
    }
   ],
   "source": [
    "df.Usage.nlargest(20)\n",
    "df[df.Usage>40000000]"
   ]
  },
  {
   "cell_type": "code",
   "execution_count": 45,
   "metadata": {},
   "outputs": [
    {
     "data": {
      "text/html": [
       "<div>\n",
       "<table border=\"1\" class=\"dataframe\">\n",
       "  <thead>\n",
       "    <tr style=\"text-align: right;\">\n",
       "      <th></th>\n",
       "      <th>Usage</th>\n",
       "    </tr>\n",
       "  </thead>\n",
       "  <tbody>\n",
       "    <tr>\n",
       "      <th>count</th>\n",
       "      <td>1.119000e+03</td>\n",
       "    </tr>\n",
       "    <tr>\n",
       "      <th>mean</th>\n",
       "      <td>5.172964e+05</td>\n",
       "    </tr>\n",
       "    <tr>\n",
       "      <th>std</th>\n",
       "      <td>2.346928e+06</td>\n",
       "    </tr>\n",
       "    <tr>\n",
       "      <th>min</th>\n",
       "      <td>2.241000e+01</td>\n",
       "    </tr>\n",
       "    <tr>\n",
       "      <th>25%</th>\n",
       "      <td>2.364720e+03</td>\n",
       "    </tr>\n",
       "    <tr>\n",
       "      <th>50%</th>\n",
       "      <td>1.858363e+04</td>\n",
       "    </tr>\n",
       "    <tr>\n",
       "      <th>75%</th>\n",
       "      <td>8.155650e+04</td>\n",
       "    </tr>\n",
       "    <tr>\n",
       "      <th>max</th>\n",
       "      <td>3.127753e+07</td>\n",
       "    </tr>\n",
       "  </tbody>\n",
       "</table>\n",
       "</div>"
      ],
      "text/plain": [
       "              Usage\n",
       "count  1.119000e+03\n",
       "mean   5.172964e+05\n",
       "std    2.346928e+06\n",
       "min    2.241000e+01\n",
       "25%    2.364720e+03\n",
       "50%    1.858363e+04\n",
       "75%    8.155650e+04\n",
       "max    3.127753e+07"
      ]
     },
     "execution_count": 45,
     "metadata": {},
     "output_type": "execute_result"
    }
   ],
   "source": [
    "#扣掉缺值\\過大值\n",
    "df1 = df[df.Usage > 0]\n",
    "df1 = df1[df1.Usage < 40000000]\n",
    "df1.describe()\n"
   ]
  },
  {
   "cell_type": "code",
   "execution_count": 60,
   "metadata": {},
   "outputs": [
    {
     "data": {
      "text/html": [
       "<div>\n",
       "<table border=\"1\" class=\"dataframe\">\n",
       "  <thead>\n",
       "    <tr style=\"text-align: right;\">\n",
       "      <th></th>\n",
       "      <th>Usage</th>\n",
       "    </tr>\n",
       "  </thead>\n",
       "  <tbody>\n",
       "    <tr>\n",
       "      <th>count</th>\n",
       "      <td>1.228000e+03</td>\n",
       "    </tr>\n",
       "    <tr>\n",
       "      <th>mean</th>\n",
       "      <td>5.172964e+05</td>\n",
       "    </tr>\n",
       "    <tr>\n",
       "      <th>std</th>\n",
       "      <td>2.240260e+06</td>\n",
       "    </tr>\n",
       "    <tr>\n",
       "      <th>min</th>\n",
       "      <td>2.241000e+01</td>\n",
       "    </tr>\n",
       "    <tr>\n",
       "      <th>25%</th>\n",
       "      <td>3.027140e+03</td>\n",
       "    </tr>\n",
       "    <tr>\n",
       "      <th>50%</th>\n",
       "      <td>2.436569e+04</td>\n",
       "    </tr>\n",
       "    <tr>\n",
       "      <th>75%</th>\n",
       "      <td>1.829971e+05</td>\n",
       "    </tr>\n",
       "    <tr>\n",
       "      <th>max</th>\n",
       "      <td>3.127753e+07</td>\n",
       "    </tr>\n",
       "  </tbody>\n",
       "</table>\n",
       "</div>"
      ],
      "text/plain": [
       "              Usage\n",
       "count  1.228000e+03\n",
       "mean   5.172964e+05\n",
       "std    2.240260e+06\n",
       "min    2.241000e+01\n",
       "25%    3.027140e+03\n",
       "50%    2.436569e+04\n",
       "75%    1.829971e+05\n",
       "max    3.127753e+07"
      ]
     },
     "execution_count": 60,
     "metadata": {},
     "output_type": "execute_result"
    }
   ],
   "source": [
    "#df2 把缺值離群值補成平均值\n",
    "mean =  df1.Usage.mean()\n",
    "df2 = df\n",
    "df2 = df2.replace(0.0,mean)\n",
    "df2 = df2[df2.Usage > 40000000] = mean\n",
    "\n",
    "#df2 = df2.replace(613240.9,mean)\n",
    "df2.describe()"
   ]
  },
  {
   "cell_type": "code",
   "execution_count": 54,
   "metadata": {},
   "outputs": [
    {
     "name": "stdout",
     "output_type": "stream",
     "text": [
      "(1228, 6) (1119, 6) (1228, 6)\n"
     ]
    }
   ],
   "source": [
    "print(df.shape,df1.shape,df2.shape)\n",
    "#df2 讚讚"
   ]
  },
  {
   "cell_type": "code",
   "execution_count": 59,
   "metadata": {},
   "outputs": [
    {
     "data": {
      "text/plain": [
       "941     554539400.0\n",
       "382     294461000.0\n",
       "788     294461000.0\n",
       "1044    245510500.0\n",
       "1131    175697100.0\n",
       "982     117636700.0\n",
       "1147    114470900.0\n",
       "1188     90420140.0\n",
       "1225     31277530.0\n",
       "749      23432220.0\n",
       "Name: Usage, dtype: float64"
      ]
     },
     "execution_count": 59,
     "metadata": {},
     "output_type": "execute_result"
    }
   ],
   "source": [
    "df2.Usage.nlargest(n=10)"
   ]
  },
  {
   "cell_type": "code",
   "execution_count": 56,
   "metadata": {},
   "outputs": [
    {
     "name": "stdout",
     "output_type": "stream",
     "text": [
      "Axes(0.125,0.125;0.775x0.775)\n"
     ]
    },
    {
     "data": {
      "image/png": "[encoded data removed]",
      "text/plain": [
       "<matplotlib.figure.Figure at 0x117b16a58>"
      ]
     },
     "metadata": {},
     "output_type": "display_data"
    }
   ],
   "source": [
    "#每個月的用電量\n",
    "#print(df1.groupby('bd_name').mean().plot.bar()) #沒排序版本\n",
    "print(df2.groupby('bd_name').mean().sort_values('Usage')['Usage'].plot.bar())"
   ]
  },
  {
   "cell_type": "code",
   "execution_count": 12,
   "metadata": {},
   "outputs": [
    {
     "ename": "SyntaxError",
     "evalue": "unexpected EOF while parsing (<ipython-input-12-151b05c89c10>, line 1)",
     "output_type": "error",
     "traceback": [
      "\u001b[0;36m  File \u001b[0;32m\"<ipython-input-12-151b05c89c10>\"\u001b[0;36m, line \u001b[0;32m1\u001b[0m\n\u001b[0;31m    print(df.groupby('bd_name').mean().sort_values('Usage')['Usage'].nlargest(n=6)\u001b[0m\n\u001b[0m                                                                                  ^\u001b[0m\n\u001b[0;31mSyntaxError\u001b[0m\u001b[0;31m:\u001b[0m unexpected EOF while parsing\n"
     ]
    }
   ],
   "source": []
  },
  {
   "cell_type": "code",
   "execution_count": null,
   "metadata": {
    "collapsed": true
   },
   "outputs": [],
   "source": []
  }
 ],
 "metadata": {
  "anaconda-cloud": {},
  "kernelspec": {
   "display_name": "Python [default]",
   "language": "python",
   "name": "python3"
  },
  "language_info": {
   "codemirror_mode": {
    "name": "ipython",
    "version": 3
   },
   "file_extension": ".py",
   "mimetype": "text/x-python",
   "name": "python",
   "nbconvert_exporter": "python",
   "pygments_lexer": "ipython3",
   "version": "3.5.2"
  }
 },
 "nbformat": 4,
 "nbformat_minor": 2
}
