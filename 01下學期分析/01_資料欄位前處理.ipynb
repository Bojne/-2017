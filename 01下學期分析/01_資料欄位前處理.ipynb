{
 "cells": [
  {
   "cell_type": "code",
   "execution_count": 21,
   "metadata": {
    "collapsed": true
   },
   "outputs": [],
   "source": [
    "import pandas as pd\n",
    "import os\n",
    "%matplotlib inline"
   ]
  },
  {
   "cell_type": "code",
   "execution_count": 71,
   "metadata": {},
   "outputs": [],
   "source": [
    "file = open('Dorm12_day_20170801_20180131.csv', encoding = 'utf8')\n",
    "df = pd.read_csv(file)\n",
    "\n",
    "#file = 'Dorm12_month_20170801_20180131.csv'\n",
    "path = './Electricity_analytics-2017/02dataset/{}'.format(file)\n",
    "#df = pd.read_csv(path)"
   ]
  },
  {
   "cell_type": "code",
   "execution_count": 72,
   "metadata": {},
   "outputs": [
    {
     "name": "stdout",
     "output_type": "stream",
     "text": [
      "Old names:  Index(['時  間', '區 域', '館 舍 別', '迴 路 別', '用電別', '用電量(單位:度)'], dtype='object')\n",
      "Reassign Column names\n",
      "New names:  Index(['DateTime', 'Area', 'Building', 'Loop', 'Type', 'Usage'], dtype='object')\n"
     ]
    },
    {
     "data": {
      "text/html": [
       "<div>\n",
       "<style scoped>\n",
       "    .dataframe tbody tr th:only-of-type {\n",
       "        vertical-align: middle;\n",
       "    }\n",
       "\n",
       "    .dataframe tbody tr th {\n",
       "        vertical-align: top;\n",
       "    }\n",
       "\n",
       "    .dataframe thead th {\n",
       "        text-align: right;\n",
       "    }\n",
       "</style>\n",
       "<table border=\"1\" class=\"dataframe\">\n",
       "  <thead>\n",
       "    <tr style=\"text-align: right;\">\n",
       "      <th></th>\n",
       "      <th>DateTime</th>\n",
       "      <th>Area</th>\n",
       "      <th>Building</th>\n",
       "      <th>Loop</th>\n",
       "      <th>Type</th>\n",
       "      <th>Usage</th>\n",
       "    </tr>\n",
       "  </thead>\n",
       "  <tbody>\n",
       "    <tr>\n",
       "      <th>0</th>\n",
       "      <td>2017/08/01</td>\n",
       "      <td>南區</td>\n",
       "      <td>學生十二舍</td>\n",
       "      <td>主迴路</td>\n",
       "      <td>宿舍</td>\n",
       "      <td>1213.5</td>\n",
       "    </tr>\n",
       "    <tr>\n",
       "      <th>1</th>\n",
       "      <td>2017/08/02</td>\n",
       "      <td>南區</td>\n",
       "      <td>學生十二舍</td>\n",
       "      <td>主迴路</td>\n",
       "      <td>宿舍</td>\n",
       "      <td>1223.5</td>\n",
       "    </tr>\n",
       "    <tr>\n",
       "      <th>2</th>\n",
       "      <td>2017/08/03</td>\n",
       "      <td>南區</td>\n",
       "      <td>學生十二舍</td>\n",
       "      <td>主迴路</td>\n",
       "      <td>宿舍</td>\n",
       "      <td>1126.0</td>\n",
       "    </tr>\n",
       "    <tr>\n",
       "      <th>3</th>\n",
       "      <td>2017/08/04</td>\n",
       "      <td>南區</td>\n",
       "      <td>學生十二舍</td>\n",
       "      <td>主迴路</td>\n",
       "      <td>宿舍</td>\n",
       "      <td>893.0</td>\n",
       "    </tr>\n",
       "    <tr>\n",
       "      <th>4</th>\n",
       "      <td>2017/08/05</td>\n",
       "      <td>南區</td>\n",
       "      <td>學生十二舍</td>\n",
       "      <td>主迴路</td>\n",
       "      <td>宿舍</td>\n",
       "      <td>647.5</td>\n",
       "    </tr>\n",
       "  </tbody>\n",
       "</table>\n",
       "</div>"
      ],
      "text/plain": [
       "     DateTime                  Area              Building  \\\n",
       "0  2017/08/01  南區                    學生十二舍                  \n",
       "1  2017/08/02  南區                    學生十二舍                  \n",
       "2  2017/08/03  南區                    學生十二舍                  \n",
       "3  2017/08/04  南區                    學生十二舍                  \n",
       "4  2017/08/05  南區                    學生十二舍                  \n",
       "\n",
       "                   Loop                  Type   Usage  \n",
       "0  主迴路                   宿舍                    1213.5  \n",
       "1  主迴路                   宿舍                    1223.5  \n",
       "2  主迴路                   宿舍                    1126.0  \n",
       "3  主迴路                   宿舍                     893.0  \n",
       "4  主迴路                   宿舍                     647.5  "
      ]
     },
     "execution_count": 72,
     "metadata": {},
     "output_type": "execute_result"
    }
   ],
   "source": [
    "print('Old names: ',df.columns)\n",
    "print('Reassign Column names')\n",
    "df.columns = ['DateTime', 'Area', 'Building', 'Loop', 'Type', 'Usage']\n",
    "print('New names: ',df.columns)\n",
    "df.head()"
   ]
  },
  {
   "cell_type": "code",
   "execution_count": 73,
   "metadata": {},
   "outputs": [
    {
     "name": "stdout",
     "output_type": "stream",
     "text": [
      "Before:  ['學生十二舍               ']\n",
      "After:  ['學生十二舍']\n"
     ]
    }
   ],
   "source": [
    "def clear_white_space(df):\n",
    "    print(\"Before: \", df.Building.unique())\n",
    "    for y in df.select_dtypes(include = 'object').columns:\n",
    "        df[y] = df[y].str.strip()\n",
    "    print('After: ', df.Building.unique())\n",
    "clear_white_space(df)"
   ]
  },
  {
   "cell_type": "code",
   "execution_count": 74,
   "metadata": {
    "collapsed": true
   },
   "outputs": [],
   "source": [
    "# 用自訂函式去理解DF中每個欄位有哪幾種類別的值\n",
    "print_limit = 100\n",
    "def understand(df):\n",
    "    for col_name in df.columns:\n",
    "        print ('>>> \"{}\" has {} unique values:'.format(col_name, len(df[col_name].unique())))\n",
    "        if(len(df[col_name].unique())< print_limit):\n",
    "            print(df[col_name].unique())\n",
    "        else:\n",
    "            print('The value is more than {} so wont be list here :P'.format(print_limit))\n",
    "        print('\\n')\n"
   ]
  },
  {
   "cell_type": "code",
   "execution_count": 75,
   "metadata": {},
   "outputs": [
    {
     "name": "stdout",
     "output_type": "stream",
     "text": [
      ">>> \"DateTime\" has 184 unique values:\n",
      "The value is more than 100 so wont be list here :P\n",
      "\n",
      "\n",
      ">>> \"Area\" has 1 unique values:\n",
      "['南區']\n",
      "\n",
      "\n",
      ">>> \"Building\" has 1 unique values:\n",
      "['學生十二舍']\n",
      "\n",
      "\n",
      ">>> \"Loop\" has 1 unique values:\n",
      "['主迴路']\n",
      "\n",
      "\n",
      ">>> \"Type\" has 1 unique values:\n",
      "['宿舍']\n",
      "\n",
      "\n",
      ">>> \"Usage\" has 179 unique values:\n",
      "The value is more than 100 so wont be list here :P\n",
      "\n",
      "\n"
     ]
    }
   ],
   "source": [
    "understand(df)"
   ]
  },
  {
   "cell_type": "markdown",
   "metadata": {},
   "source": [
    "### 原始資料說明 - 2\n",
    "- index: ['﻿時  間', '區 域', '館 舍 別', '迴 路 別', '用電別', '用電量(單位:度)']\n",
    "\n",
    "### 人工資料前處理：改變欄位名稱\n",
    "#### 改變的原因\n",
    "- 原始的資料有空白在字串裡，會造成一些麻煩\n",
    "- 英文的名稱，可以在Pandas寫Code時較為方便(才能用 df.Usage的指令)\n",
    "\n",
    "#### 改了什麼\n",
    "- 我用Number(Excel)的尋找取代功能，把資料轉成英文，以下括弧表示原始資料的命名\n",
    "    - 區域：southArea(南區), northArea(北區)\n",
    "    - 迴 路 別: mainLoop（主迴路）, familyMart（1F便利超商）, club（社團）, socialHall（閱覽交誼廳）, studentHall（學生交誼廳）, streetLight(環校路燈),\n",
    "    - 館舍： dorm_13（學生十三舍）,(7,8,9,10,11,12 以此類推), dorm_graduate_2（研二）, dorm_87（學生七舍＿八舍）, dorm_13_graduate_1(11與研一), dorm_chu（竹軒）\n",
    "    - 用電別：rent（外租）, dorm（宿舍）, admin(行政)"
   ]
  },
  {
   "cell_type": "code",
   "execution_count": 76,
   "metadata": {
    "collapsed": true
   },
   "outputs": [],
   "source": [
    "dic_replace = {\n",
    "    'Area' : {'北區':'N','南區':'S'},\n",
    "    'Building' : {\n",
    "        '基礎大樓':\"SB3\",\n",
    "        '科學二館':\"SB2\",\n",
    "        '科學一館':\"SB1\",\n",
    "        '學生十三舍': \"D13\", \n",
    "        '學生十二舍': 'D12',\n",
    "        '學生十一舍': 'D11',\n",
    "        '學生十舍': 'D10',\n",
    "        '學生九舍': 'D9',\n",
    "        '學生八舍': 'D8',\n",
    "        '學生七舍': 'D7',\n",
    "        '學生七舍_八舍':'D87',\n",
    "        '竹軒宿舍': 'Df1',\n",
    "        '女二舍': 'Df2',\n",
    "        '研究生一舍': 'Dgd1',\n",
    "        '研究生二舍': 'Dgd2',\n",
    "        '學生十一舍_研一舍':'D11_grad1',\n",
    "        '管理一館':'MB1',\n",
    "        '管理二館':'MB2',\n",
    "        '工程一館': 'EB1',\n",
    "        '工程二館': 'EB2',\n",
    "        '工程三館': 'EB3',\n",
    "        '工程四館': 'EB4',\n",
    "        '工程五館': 'EB5',\n",
    "        '工程六館': 'EB6',\n",
    "        '人社一館': 'HS1',\n",
    "        '人社二館': 'HS2',\n",
    "        '交映樓': 'CPT',\n",
    "        '土木結構': 'CElab',\n",
    "        '中正堂':'CKS',\n",
    "        '光電大樓':'TKB',\n",
    "        '第二餐廳': 'Canteen2',\n",
    "        '服務大樓':'Service',\n",
    "        '行政大樓':'Administration',\n",
    "        '環保大樓':'Environmental',\n",
    "        '材料實驗':'Material',\n",
    "        '綜合一館':'Assembly1',\n",
    "        '綜合球館':'Sport',\n",
    "        '游泳館':'Swim',\n",
    "        '體育館':'Gym',\n",
    "        '機車Ｈ棚':'ShedH',\n",
    "        '機車Ａ棚':'ShedA',\n",
    "        '機車Ｄ棚':'ShedD',\n",
    "        '工程一館中繼':'PowerSatatiopn_EB1',\n",
    "        '人社二館中繼':'PowerSatatiopn_HS2',\n",
    "        '南區總電站':'PowerSatatiopn_main_south',\n",
    "        '防災中心':'Safty',\n",
    "        '污水場':'Wastewater',\n",
    "        '電資大樓': 'ElecInfo',\n",
    "        '資訊館(南區)':'Info_south',\n",
    "        '資訊館(北區)':'Info_north',\n",
    "        '活動中心': 'Activity',\n",
    "        '圖資中心': 'Library',\n",
    "        '第一招待所': 'GuestHouse'\n",
    "                 },\n",
    "    'Type' : {'教學': 'edu', '宿舍': 'dorm', '行政':'admin', '外租':'rent','電站':'power'},\n",
    "    'Loop' : {'主迴路': 'main'}\n",
    "              }\n",
    "# ,'Building': {'學生十舍':'d10', '學生十三舍':'d13', }\n",
    "df = df.replace(dic_replace)"
   ]
  },
  {
   "cell_type": "code",
   "execution_count": 77,
   "metadata": {},
   "outputs": [
    {
     "data": {
      "text/plain": [
       "array(['D12'], dtype=object)"
      ]
     },
     "execution_count": 77,
     "metadata": {},
     "output_type": "execute_result"
    }
   ],
   "source": [
    "df.Building.unique()"
   ]
  },
  {
   "cell_type": "code",
   "execution_count": 78,
   "metadata": {},
   "outputs": [
    {
     "name": "stdout",
     "output_type": "stream",
     "text": [
      ">>> \"DateTime\" has 184 unique values:\n",
      "The value is more than 100 so wont be list here :P\n",
      "\n",
      "\n",
      ">>> \"Area\" has 1 unique values:\n",
      "['S']\n",
      "\n",
      "\n",
      ">>> \"Building\" has 1 unique values:\n",
      "['D12']\n",
      "\n",
      "\n",
      ">>> \"Loop\" has 1 unique values:\n",
      "['main']\n",
      "\n",
      "\n",
      ">>> \"Type\" has 1 unique values:\n",
      "['dorm']\n",
      "\n",
      "\n",
      ">>> \"Usage\" has 179 unique values:\n",
      "The value is more than 100 so wont be list here :P\n",
      "\n",
      "\n"
     ]
    }
   ],
   "source": [
    "understand(df)"
   ]
  },
  {
   "cell_type": "code",
   "execution_count": 79,
   "metadata": {},
   "outputs": [
    {
     "data": {
      "text/html": [
       "<div>\n",
       "<style scoped>\n",
       "    .dataframe tbody tr th:only-of-type {\n",
       "        vertical-align: middle;\n",
       "    }\n",
       "\n",
       "    .dataframe tbody tr th {\n",
       "        vertical-align: top;\n",
       "    }\n",
       "\n",
       "    .dataframe thead th {\n",
       "        text-align: right;\n",
       "    }\n",
       "</style>\n",
       "<table border=\"1\" class=\"dataframe\">\n",
       "  <thead>\n",
       "    <tr style=\"text-align: right;\">\n",
       "      <th></th>\n",
       "      <th>DateTime</th>\n",
       "      <th>Area</th>\n",
       "      <th>Building</th>\n",
       "      <th>Loop</th>\n",
       "      <th>Type</th>\n",
       "      <th>Usage</th>\n",
       "    </tr>\n",
       "  </thead>\n",
       "  <tbody>\n",
       "    <tr>\n",
       "      <th>0</th>\n",
       "      <td>2017/08/01</td>\n",
       "      <td>S</td>\n",
       "      <td>D12</td>\n",
       "      <td>main</td>\n",
       "      <td>dorm</td>\n",
       "      <td>1213.5</td>\n",
       "    </tr>\n",
       "    <tr>\n",
       "      <th>1</th>\n",
       "      <td>2017/08/02</td>\n",
       "      <td>S</td>\n",
       "      <td>D12</td>\n",
       "      <td>main</td>\n",
       "      <td>dorm</td>\n",
       "      <td>1223.5</td>\n",
       "    </tr>\n",
       "    <tr>\n",
       "      <th>2</th>\n",
       "      <td>2017/08/03</td>\n",
       "      <td>S</td>\n",
       "      <td>D12</td>\n",
       "      <td>main</td>\n",
       "      <td>dorm</td>\n",
       "      <td>1126.0</td>\n",
       "    </tr>\n",
       "    <tr>\n",
       "      <th>3</th>\n",
       "      <td>2017/08/04</td>\n",
       "      <td>S</td>\n",
       "      <td>D12</td>\n",
       "      <td>main</td>\n",
       "      <td>dorm</td>\n",
       "      <td>893.0</td>\n",
       "    </tr>\n",
       "    <tr>\n",
       "      <th>4</th>\n",
       "      <td>2017/08/05</td>\n",
       "      <td>S</td>\n",
       "      <td>D12</td>\n",
       "      <td>main</td>\n",
       "      <td>dorm</td>\n",
       "      <td>647.5</td>\n",
       "    </tr>\n",
       "  </tbody>\n",
       "</table>\n",
       "</div>"
      ],
      "text/plain": [
       "     DateTime Area Building  Loop  Type   Usage\n",
       "0  2017/08/01    S      D12  main  dorm  1213.5\n",
       "1  2017/08/02    S      D12  main  dorm  1223.5\n",
       "2  2017/08/03    S      D12  main  dorm  1126.0\n",
       "3  2017/08/04    S      D12  main  dorm   893.0\n",
       "4  2017/08/05    S      D12  main  dorm   647.5"
      ]
     },
     "execution_count": 79,
     "metadata": {},
     "output_type": "execute_result"
    }
   ],
   "source": [
    "#print(os.getcwd())\n",
    "#os.chdir(path[:path.rfind('/')])\n",
    "df.head()"
   ]
  },
  {
   "cell_type": "code",
   "execution_count": 80,
   "metadata": {},
   "outputs": [],
   "source": [
    "df.to_csv('[new]'+file.name, encoding='utf-8')"
   ]
  },
  {
   "cell_type": "code",
   "execution_count": null,
   "metadata": {
    "collapsed": true
   },
   "outputs": [],
   "source": []
  },
  {
   "cell_type": "code",
   "execution_count": null,
   "metadata": {
    "collapsed": true
   },
   "outputs": [],
   "source": []
  },
  {
   "cell_type": "code",
   "execution_count": null,
   "metadata": {
    "collapsed": true
   },
   "outputs": [],
   "source": []
  },
  {
   "cell_type": "code",
   "execution_count": null,
   "metadata": {
    "collapsed": true
   },
   "outputs": [],
   "source": []
  }
 ],
 "metadata": {
  "anaconda-cloud": {},
  "kernelspec": {
   "display_name": "Python 3",
   "language": "python",
   "name": "python3"
  },
  "language_info": {
   "codemirror_mode": {
    "name": "ipython",
    "version": 3
   },
   "file_extension": ".py",
   "mimetype": "text/x-python",
   "name": "python",
   "nbconvert_exporter": "python",
   "pygments_lexer": "ipython3",
   "version": "3.6.3"
  }
 },
 "nbformat": 4,
 "nbformat_minor": 2
}
