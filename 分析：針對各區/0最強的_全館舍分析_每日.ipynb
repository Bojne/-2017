{
 "cells": [
  {
   "cell_type": "code",
   "execution_count": 173,
   "metadata": {},
   "outputs": [
    {
     "name": "stdout",
     "output_type": "stream",
     "text": [
      "Using matplotlib backend: TkAgg\n",
      "Populating the interactive namespace from numpy and matplotlib\n"
     ]
    }
   ],
   "source": [
    "import pandas as pd\n",
    "import numpy as np\n",
    "%matplotlib \n",
    "%pylab inline\n",
    "#畫圖設定\n",
    "font = {    'size'   : 18}\n",
    "pylab.rcParams['figure.figsize'] = (20, 8) #Make figure larger.\n",
    "matplotlib.rc('font', **font)"
   ]
  },
  {
   "cell_type": "markdown",
   "metadata": {},
   "source": [
    "### 維護者\n",
    "- 黃岳涵\n",
    "\n",
    "### 資料說明\n",
    "- 本程式使用的資料集是南北區各館舍用電，收集 2016.09.01 ~ 2017.08.31 的每天資料\n",
    "- 館舍有104棟，每棟有365筆資料，共37960筆資料\n",
    "\n",
    "### 在試算表上的資料前處理\n",
    "- 將欄位名改成英文\n",
    "- 將原資料的空格刪除（尋找取代功能）\n",
    "- 刪除欄位（幾乎完全缺值）：北區總電站、南區總電站、學生七舍、學生八舍、機車Ｈ棚、資訊館(北區)、二餐水果\n",
    "- 刪除欄位（缺值100~300筆）：污水廠、綜合球館\n",
    "- 極大值改成0： 機車A棚\n",
    "- 移除（獨立）特大欄位：空大MP動力、第一餐聽、空大ML燈力\n",
    "\n",
    "### 資料命名\n",
    "- df：原始dataframe\n",
    "- df0：所有值都是是零的rows,from df\n",
    "- df1: df sorted."
   ]
  },
  {
   "cell_type": "code",
   "execution_count": 178,
   "metadata": {},
   "outputs": [
    {
     "data": {
      "text/html": [
       "<div>\n",
       "<table border=\"1\" class=\"dataframe\">\n",
       "  <thead>\n",
       "    <tr style=\"text-align: right;\">\n",
       "      <th></th>\n",
       "      <th>Date</th>\n",
       "      <th>Area</th>\n",
       "      <th>Building_name</th>\n",
       "      <th>Loop</th>\n",
       "      <th>Type</th>\n",
       "      <th>Usage</th>\n",
       "    </tr>\n",
       "  </thead>\n",
       "  <tbody>\n",
       "    <tr>\n",
       "      <th>0</th>\n",
       "      <td>2017/08/31</td>\n",
       "      <td>北區</td>\n",
       "      <td>體育館</td>\n",
       "      <td>籃排球場</td>\n",
       "      <td>行政</td>\n",
       "      <td>37.27</td>\n",
       "    </tr>\n",
       "    <tr>\n",
       "      <th>1</th>\n",
       "      <td>2017/08/30</td>\n",
       "      <td>北區</td>\n",
       "      <td>體育館</td>\n",
       "      <td>籃排球場</td>\n",
       "      <td>行政</td>\n",
       "      <td>37.14</td>\n",
       "    </tr>\n",
       "    <tr>\n",
       "      <th>2</th>\n",
       "      <td>2017/08/29</td>\n",
       "      <td>北區</td>\n",
       "      <td>體育館</td>\n",
       "      <td>籃排球場</td>\n",
       "      <td>行政</td>\n",
       "      <td>37.10</td>\n",
       "    </tr>\n",
       "    <tr>\n",
       "      <th>3</th>\n",
       "      <td>2017/08/28</td>\n",
       "      <td>北區</td>\n",
       "      <td>體育館</td>\n",
       "      <td>籃排球場</td>\n",
       "      <td>行政</td>\n",
       "      <td>39.36</td>\n",
       "    </tr>\n",
       "    <tr>\n",
       "      <th>4</th>\n",
       "      <td>2017/08/27</td>\n",
       "      <td>北區</td>\n",
       "      <td>體育館</td>\n",
       "      <td>籃排球場</td>\n",
       "      <td>行政</td>\n",
       "      <td>8.31</td>\n",
       "    </tr>\n",
       "  </tbody>\n",
       "</table>\n",
       "</div>"
      ],
      "text/plain": [
       "         Date Area Building_name  Loop Type  Usage\n",
       "0  2017/08/31   北區           體育館  籃排球場   行政  37.27\n",
       "1  2017/08/30   北區           體育館  籃排球場   行政  37.14\n",
       "2  2017/08/29   北區           體育館  籃排球場   行政  37.10\n",
       "3  2017/08/28   北區           體育館  籃排球場   行政  39.36\n",
       "4  2017/08/27   北區           體育館  籃排球場   行政   8.31"
      ]
     },
     "execution_count": 178,
     "metadata": {},
     "output_type": "execute_result"
    }
   ],
   "source": [
    "df = pd.read_csv('../data/main_南北區_365day+12month/allbd365day_main.csv') #df for dataframe\n",
    "df.head() #get a glimpse\n",
    "# df.columns "
   ]
  },
  {
   "cell_type": "code",
   "execution_count": 181,
   "metadata": {},
   "outputs": [
    {
     "data": {
      "text/html": [
       "<div>\n",
       "<table border=\"1\" class=\"dataframe\">\n",
       "  <thead>\n",
       "    <tr style=\"text-align: right;\">\n",
       "      <th></th>\n",
       "      <th>Usage</th>\n",
       "    </tr>\n",
       "  </thead>\n",
       "  <tbody>\n",
       "    <tr>\n",
       "      <th>count</th>\n",
       "      <td>3.431000e+04</td>\n",
       "    </tr>\n",
       "    <tr>\n",
       "      <th>mean</th>\n",
       "      <td>5.517088e+05</td>\n",
       "    </tr>\n",
       "    <tr>\n",
       "      <th>std</th>\n",
       "      <td>1.207317e+07</td>\n",
       "    </tr>\n",
       "    <tr>\n",
       "      <th>min</th>\n",
       "      <td>0.000000e+00</td>\n",
       "    </tr>\n",
       "    <tr>\n",
       "      <th>25%</th>\n",
       "      <td>5.903250e+01</td>\n",
       "    </tr>\n",
       "    <tr>\n",
       "      <th>50%</th>\n",
       "      <td>4.532200e+02</td>\n",
       "    </tr>\n",
       "    <tr>\n",
       "      <th>75%</th>\n",
       "      <td>1.706710e+03</td>\n",
       "    </tr>\n",
       "    <tr>\n",
       "      <th>max</th>\n",
       "      <td>4.850091e+08</td>\n",
       "    </tr>\n",
       "  </tbody>\n",
       "</table>\n",
       "</div>"
      ],
      "text/plain": [
       "              Usage\n",
       "count  3.431000e+04\n",
       "mean   5.517088e+05\n",
       "std    1.207317e+07\n",
       "min    0.000000e+00\n",
       "25%    5.903250e+01\n",
       "50%    4.532200e+02\n",
       "75%    1.706710e+03\n",
       "max    4.850091e+08"
      ]
     },
     "execution_count": 181,
     "metadata": {},
     "output_type": "execute_result"
    }
   ],
   "source": [
    "df.describe()\n",
    "#有max e+38 第21671,21730 筆 把它設為0"
   ]
  },
  {
   "cell_type": "markdown",
   "metadata": {},
   "source": [
    "### 初始資料缺值\n",
    "學生七舍       730\n",
    "第二餐廳       370\n",
    "學生八舍       365\n",
    "機車Ｈ棚       365\n",
    "南區總電站      363\n",
    "北區總電站      363\n",
    "資訊館(北區)    354\n",
    "活動中心       222\n",
    "學生十三舍      211\n",
    "綜合一館       195\n",
    "行政大樓       160\n",
    "污水場        143\n",
    "綜合球館       117\n",
    "光電大樓        65\n",
    "環保大樓        60\n",
    "學生十舍        59\n",
    "女二舍         28\n",
    "學生七舍_八舍      9\n",
    "圖資中心         6\n",
    "交映樓          4\n",
    "防災中心         4\n",
    "管理二館         4\n",
    "材料實驗         4\n",
    "服務大樓         4\n",
    "工程六館         4\n",
    "學生十二舍        4"
   ]
  },
  {
   "cell_type": "code",
   "execution_count": 182,
   "metadata": {
    "scrolled": true
   },
   "outputs": [
    {
     "name": "stdout",
     "output_type": "stream",
     "text": [
      "第二餐廳         14.0\n",
      "活動中心         10.0\n",
      "綜合一館          8.0\n",
      "女二舍           7.0\n",
      "電資大樓          4.0\n",
      "學生十三舍         4.0\n",
      "中正堂           3.0\n",
      "體育館           3.0\n",
      "學生十舍          2.0\n",
      "圖資中心          2.0\n",
      "人社二館中繼        1.0\n",
      "第一招待所         1.0\n",
      "資訊館(南區)       1.0\n",
      "交映樓           1.0\n",
      "學生九舍          1.0\n",
      "工程一館中繼        1.0\n",
      "光電大樓          1.0\n",
      "研究生二舍         1.0\n",
      "游泳館           1.0\n",
      "研究生一舍         1.0\n",
      "科學二館          1.0\n",
      "土木結構          1.0\n",
      "學生十一舍         1.0\n",
      "資訊館(北區)       1.0\n",
      "工程二館          1.0\n",
      "竹軒宿舍          1.0\n",
      "科學一館          1.0\n",
      "材料實驗          1.0\n",
      "工程六館          1.0\n",
      "機車Ｄ棚          1.0\n",
      "防災中心          1.0\n",
      "人社二館          1.0\n",
      "學生十一舍_研一舍     1.0\n",
      "服務大樓          1.0\n",
      "工程一館          1.0\n",
      "管理一館          1.0\n",
      "工程四館          1.0\n",
      "工程五館          1.0\n",
      "學生七舍_八舍       1.0\n",
      "學生十二舍         1.0\n",
      "人社一館          1.0\n",
      "環保大樓          1.0\n",
      "管理二館          1.0\n",
      "基礎大樓          1.0\n",
      "機車Ａ棚          1.0\n",
      "工程三館          1.0\n",
      "行政大樓          1.0\n",
      "Name: Building_name, dtype: float64\n"
     ]
    }
   ],
   "source": [
    "#看個館舍有幾個分電表，每個分電表會有365筆資料\n",
    "print(df.Building_name.value_counts()/365)\n",
    "# 全部正常"
   ]
  },
  {
   "cell_type": "code",
   "execution_count": 131,
   "metadata": {
    "scrolled": true
   },
   "outputs": [
    {
     "name": "stdout",
     "output_type": "stream",
     "text": [
      "有幾筆零: 1075\n"
     ]
    },
    {
     "data": {
      "text/plain": [
       "活動中心       222\n",
       "學生十三舍      211\n",
       "綜合一館       207\n",
       "行政大樓       160\n",
       "光電大樓        65\n",
       "環保大樓        60\n",
       "學生十舍        59\n",
       "女二舍         28\n",
       "機車Ａ棚        12\n",
       "學生七舍_八舍      9\n",
       "第二餐廳         6\n",
       "圖資中心         6\n",
       "管理二館         4\n",
       "工程六館         4\n",
       "材料實驗         4\n",
       "交映樓          4\n",
       "防災中心         4\n",
       "服務大樓         4\n",
       "學生十二舍        4\n",
       "機車Ｄ棚         2\n",
       "Name: Building_name, dtype: int64"
      ]
     },
     "execution_count": 131,
     "metadata": {},
     "output_type": "execute_result"
    }
   ],
   "source": [
    "##了解dataset: 缺值\n",
    "print('有幾筆零:',df[df.Usage == 0].Usage.count())\n",
    "df0 = df[df.Usage == 0]\n",
    "df0.Building_name.value_counts() #看出誰缺最多\n",
    "# 南區總電站 294461000\n",
    "# 北區 104003400\n",
    "# 北區 208006700"
   ]
  },
  {
   "cell_type": "code",
   "execution_count": 186,
   "metadata": {},
   "outputs": [
    {
     "data": {
      "text/plain": [
       "Building_name\n",
       "第一招待所            22.519425\n",
       "行政大樓            146.468493\n",
       "資訊館(北區)         183.003315\n",
       "機車Ａ棚            198.436658\n",
       "活動中心            259.770865\n",
       "學生十一舍           375.425425\n",
       "體育館             425.518968\n",
       "研究生一舍           507.105918\n",
       "中正堂             525.424338\n",
       "工程一館            550.749205\n",
       "機車Ｄ棚            578.314438\n",
       "學生十舍            654.753219\n",
       "竹軒宿舍            666.824932\n",
       "人社一館            829.652877\n",
       "學生十一舍_研一舍      1060.043836\n",
       "工程二館           1093.582274\n",
       "學生九舍           1579.101726\n",
       "科學一館           1655.063973\n",
       "游泳館            2422.328356\n",
       "環保大樓           2627.278274\n",
       "管理一館           3690.731205\n",
       "科學二館           5012.013699\n",
       "第二餐廳           5966.101957\n",
       "人社二館           7150.333562\n",
       "電資大樓           9142.729329\n",
       "防災中心           9497.241096\n",
       "基礎大樓           9613.569863\n",
       "綜合一館           9909.581272\n",
       "光電大樓          10840.329671\n",
       "服務大樓          13168.334274\n",
       "材料實驗          13864.596877\n",
       "工程一館中繼        15043.616438\n",
       "工程六館          18162.165534\n",
       "資訊館(南區)       19049.616438\n",
       "學生十二舍         31295.300000\n",
       "女二舍           32353.045178\n",
       "管理二館          33776.343836\n",
       "圖資中心          36287.975548\n",
       "學生十三舍         36864.552336\n",
       "土木結構          38304.301370\n",
       "研究生二舍         38891.867123\n",
       "工程五館          44046.423288\n",
       "學生七舍_八舍       50365.149315\n",
       "交映樓           58030.298630\n",
       "人社二館中繼       111105.669863\n",
       "工程四館         127719.386301\n",
       "工程三館         156857.320548\n",
       "Name: Usage, dtype: float64"
      ]
     },
     "execution_count": 186,
     "metadata": {},
     "output_type": "execute_result"
    }
   ],
   "source": [
    "df1 = df1.sort_values('Usage')\n",
    "df1.groupby('Building_name').Usage.mean().sort_values()"
   ]
  },
  {
   "cell_type": "code",
   "execution_count": 189,
   "metadata": {},
   "outputs": [
    {
     "data": {
      "image/png": "[encoded data removed]",
      "text/plain": [
       "<matplotlib.figure.Figure at 0x187ca8a20>"
      ]
     },
     "metadata": {},
     "output_type": "display_data"
    }
   ],
   "source": [
    "df1[-70:].plot.bar(title='Usage rank(70 largest)')\n",
    "savefig('allbd_365days_70_largest')"
   ]
  },
  {
   "cell_type": "code",
   "execution_count": 197,
   "metadata": {},
   "outputs": [
    {
     "data": {
      "text/html": [
       "<div>\n",
       "<table border=\"1\" class=\"dataframe\">\n",
       "  <thead>\n",
       "    <tr style=\"text-align: right;\">\n",
       "      <th></th>\n",
       "      <th>Date</th>\n",
       "      <th>Area</th>\n",
       "      <th>Building_name</th>\n",
       "      <th>Loop</th>\n",
       "      <th>Type</th>\n",
       "      <th>Usage</th>\n",
       "    </tr>\n",
       "  </thead>\n",
       "  <tbody>\n",
       "    <tr>\n",
       "      <th>22484</th>\n",
       "      <td>2017/01/24</td>\n",
       "      <td>南區</td>\n",
       "      <td>工程四館</td>\n",
       "      <td>主迴路</td>\n",
       "      <td>教學</td>\n",
       "      <td>13580910.0</td>\n",
       "    </tr>\n",
       "    <tr>\n",
       "      <th>22358</th>\n",
       "      <td>2017/05/30</td>\n",
       "      <td>南區</td>\n",
       "      <td>工程四館</td>\n",
       "      <td>主迴路</td>\n",
       "      <td>教學</td>\n",
       "      <td>14665910.0</td>\n",
       "    </tr>\n",
       "    <tr>\n",
       "      <th>22353</th>\n",
       "      <td>2017/06/04</td>\n",
       "      <td>南區</td>\n",
       "      <td>工程四館</td>\n",
       "      <td>主迴路</td>\n",
       "      <td>教學</td>\n",
       "      <td>14724070.0</td>\n",
       "    </tr>\n",
       "    <tr>\n",
       "      <th>24815</th>\n",
       "      <td>2016/09/05</td>\n",
       "      <td>南區</td>\n",
       "      <td>女二舍</td>\n",
       "      <td>主迴路</td>\n",
       "      <td>宿舍</td>\n",
       "      <td>16603580.0</td>\n",
       "    </tr>\n",
       "    <tr>\n",
       "      <th>24674</th>\n",
       "      <td>2017/01/24</td>\n",
       "      <td>南區</td>\n",
       "      <td>女二舍</td>\n",
       "      <td>主迴路</td>\n",
       "      <td>宿舍</td>\n",
       "      <td>17488590.0</td>\n",
       "    </tr>\n",
       "    <tr>\n",
       "      <th>12040</th>\n",
       "      <td>2016/09/05</td>\n",
       "      <td>南區</td>\n",
       "      <td>學生十三舍</td>\n",
       "      <td>主迴路</td>\n",
       "      <td>宿舍</td>\n",
       "      <td>17660110.0</td>\n",
       "    </tr>\n",
       "    <tr>\n",
       "      <th>23579</th>\n",
       "      <td>2017/01/24</td>\n",
       "      <td>南區</td>\n",
       "      <td>工程三館</td>\n",
       "      <td>主迴路</td>\n",
       "      <td>教學</td>\n",
       "      <td>17967470.0</td>\n",
       "    </tr>\n",
       "    <tr>\n",
       "      <th>24548</th>\n",
       "      <td>2017/05/30</td>\n",
       "      <td>南區</td>\n",
       "      <td>女二舍</td>\n",
       "      <td>主迴路</td>\n",
       "      <td>宿舍</td>\n",
       "      <td>18150520.0</td>\n",
       "    </tr>\n",
       "    <tr>\n",
       "      <th>23453</th>\n",
       "      <td>2017/05/30</td>\n",
       "      <td>南區</td>\n",
       "      <td>工程三館</td>\n",
       "      <td>主迴路</td>\n",
       "      <td>教學</td>\n",
       "      <td>18586020.0</td>\n",
       "    </tr>\n",
       "    <tr>\n",
       "      <th>23448</th>\n",
       "      <td>2017/06/04</td>\n",
       "      <td>南區</td>\n",
       "      <td>工程三館</td>\n",
       "      <td>主迴路</td>\n",
       "      <td>教學</td>\n",
       "      <td>18619680.0</td>\n",
       "    </tr>\n",
       "    <tr>\n",
       "      <th>15184</th>\n",
       "      <td>2017/01/24</td>\n",
       "      <td>南區</td>\n",
       "      <td>圖資中心</td>\n",
       "      <td>主迴路</td>\n",
       "      <td>行政</td>\n",
       "      <td>23268590.0</td>\n",
       "    </tr>\n",
       "  </tbody>\n",
       "</table>\n",
       "</div>"
      ],
      "text/plain": [
       "             Date Area Building_name Loop Type       Usage\n",
       "22484  2017/01/24   南區          工程四館  主迴路   教學  13580910.0\n",
       "22358  2017/05/30   南區          工程四館  主迴路   教學  14665910.0\n",
       "22353  2017/06/04   南區          工程四館  主迴路   教學  14724070.0\n",
       "24815  2016/09/05   南區           女二舍  主迴路   宿舍  16603580.0\n",
       "24674  2017/01/24   南區           女二舍  主迴路   宿舍  17488590.0\n",
       "12040  2016/09/05   南區         學生十三舍  主迴路   宿舍  17660110.0\n",
       "23579  2017/01/24   南區          工程三館  主迴路   教學  17967470.0\n",
       "24548  2017/05/30   南區           女二舍  主迴路   宿舍  18150520.0\n",
       "23453  2017/05/30   南區          工程三館  主迴路   教學  18586020.0\n",
       "23448  2017/06/04   南區          工程三館  主迴路   教學  18619680.0\n",
       "15184  2017/01/24   南區          圖資中心  主迴路   行政  23268590.0"
      ]
     },
     "execution_count": 197,
     "metadata": {},
     "output_type": "execute_result"
    }
   ],
   "source": [
    "#df1[-40:].plot.bar()\n",
    "df1top11 = df1[-11:]\n",
    "df1top11 "
   ]
  },
  {
   "cell_type": "code",
   "execution_count": null,
   "metadata": {},
   "outputs": [
    {
     "data": {
      "text/plain": [
       "<matplotlib.axes._subplots.AxesSubplot at 0x18bee6cc0>"
      ]
     },
     "execution_count": 199,
     "metadata": {},
     "output_type": "execute_result"
    }
   ],
   "source": [
    "df1top11_22 = df1[-22:-11]"
   ]
  },
  {
   "cell_type": "code",
   "execution_count": null,
   "metadata": {
    "collapsed": true
   },
   "outputs": [],
   "source": [
    "# 每天學校平均用電\n",
    "# df1 = df[df.Loop!='第一餐聽'] #第一餐廳離群值高\n",
    "# df1 = df1[df1.Loop!='空大ML燈力'] #空大ML燈力離群值高\n",
    "df1.groupby('Date').mean().sort_values('Usage').plot.bar()\n",
    "df1.Usage.nlargest(n=150) #found min is 63168.61\n",
    "df1[df1.Usage>20840.00]"
   ]
  },
  {
   "cell_type": "code",
   "execution_count": 154,
   "metadata": {},
   "outputs": [
    {
     "data": {
      "text/plain": [
       "女二舍        27\n",
       "第二餐廳       23\n",
       "學生十三舍       8\n",
       "綜合一館        7\n",
       "人社二館中繼      6\n",
       "圖資中心        5\n",
       "工程六館        5\n",
       "交映樓         4\n",
       "研究生二舍       3\n",
       "工程四館        3\n",
       "防災中心        3\n",
       "工程三館        3\n",
       "土木結構        3\n",
       "工程五館        3\n",
       "環保大樓        3\n",
       "材料實驗        3\n",
       "學生七舍_八舍     2\n",
       "服務大樓        2\n",
       "學生十二舍       2\n",
       "人社二館        2\n",
       "管理二館        2\n",
       "電資大樓        2\n",
       "管理一館        2\n",
       "資訊館(南區)     1\n",
       "光電大樓        1\n",
       "中正堂         1\n",
       "Name: Building_name, dtype: int64"
      ]
     },
     "execution_count": 154,
     "metadata": {},
     "output_type": "execute_result"
    }
   ],
   "source": [
    "df1[df1.Usage>63168.61].Building_name.value_counts() "
   ]
  },
  {
   "cell_type": "code",
   "execution_count": null,
   "metadata": {
    "collapsed": true
   },
   "outputs": [],
   "source": []
  },
  {
   "cell_type": "code",
   "execution_count": 134,
   "metadata": {},
   "outputs": [
    {
     "data": {
      "text/plain": [
       "<matplotlib.axes._subplots.AxesSubplot at 0x125b47518>"
      ]
     },
     "execution_count": 134,
     "metadata": {},
     "output_type": "execute_result"
    },
    {
     "data": {
      "image/png": "[encoded data removed]",
      "text/plain": [
       "<matplotlib.figure.Figure at 0x125b84e80>"
      ]
     },
     "metadata": {},
     "output_type": "display_data"
    }
   ],
   "source": [
    "#自動切除離群值\n",
    "# df1.groupby(['Building_name','Loop'])\n",
    "df1[-100:].Usage.plot.bar()\n",
    "\n",
    "# df[np.abs(df.Data-df.Data.mean())<=(3*df.Data.std())] #keep only the ones that are within +3 to -3 standard deviations in the column 'Data'.\n",
    "# df[~(np.abs(df.Data-df.Data.mean())>(3*df.Data.std()))] #or if you prefer the other way around"
   ]
  },
  {
   "cell_type": "code",
   "execution_count": 135,
   "metadata": {},
   "outputs": [
    {
     "data": {
      "text/plain": [
       "<matplotlib.axes._subplots.AxesSubplot at 0x12706e278>"
      ]
     },
     "execution_count": 135,
     "metadata": {},
     "output_type": "execute_result"
    },
    {
     "data": {
      "image/png": "[encoded data removed]",
      "text/plain": [
       "<matplotlib.figure.Figure at 0x12afc1cf8>"
      ]
     },
     "metadata": {},
     "output_type": "display_data"
    }
   ],
   "source": [
    "df1[-400:-200].Usage.plot.bar()\n"
   ]
  },
  {
   "cell_type": "code",
   "execution_count": 136,
   "metadata": {},
   "outputs": [
    {
     "data": {
      "text/plain": [
       "<matplotlib.axes._subplots.AxesSubplot at 0x12bcba978>"
      ]
     },
     "execution_count": 136,
     "metadata": {},
     "output_type": "execute_result"
    },
    {
     "data": {
      "image/png": "[encoded data removed]",
      "text/plain": [
       "<matplotlib.figure.Figure at 0x12b57da58>"
      ]
     },
     "metadata": {},
     "output_type": "display_data"
    }
   ],
   "source": [
    "df1[-400:-200].Usage.plot.bar()\n"
   ]
  },
  {
   "cell_type": "code",
   "execution_count": 137,
   "metadata": {},
   "outputs": [],
   "source": [
    "#df1[df1.Usage<20000].Usage.plot.bar()"
   ]
  },
  {
   "cell_type": "code",
   "execution_count": 138,
   "metadata": {},
   "outputs": [
    {
     "data": {
      "text/html": [
       "<div>\n",
       "<table border=\"1\" class=\"dataframe\">\n",
       "  <thead>\n",
       "    <tr style=\"text-align: right;\">\n",
       "      <th></th>\n",
       "      <th>Date</th>\n",
       "      <th>Area</th>\n",
       "      <th>Building_name</th>\n",
       "      <th>Loop</th>\n",
       "      <th>Type</th>\n",
       "      <th>Usage</th>\n",
       "    </tr>\n",
       "  </thead>\n",
       "  <tbody>\n",
       "    <tr>\n",
       "      <th>34302</th>\n",
       "      <td>2016/09/08</td>\n",
       "      <td>北區</td>\n",
       "      <td>人社二館中繼</td>\n",
       "      <td>NaN</td>\n",
       "      <td>電站</td>\n",
       "      <td>16427.5</td>\n",
       "    </tr>\n",
       "    <tr>\n",
       "      <th>34303</th>\n",
       "      <td>2016/09/07</td>\n",
       "      <td>北區</td>\n",
       "      <td>人社二館中繼</td>\n",
       "      <td>NaN</td>\n",
       "      <td>電站</td>\n",
       "      <td>16563.0</td>\n",
       "    </tr>\n",
       "    <tr>\n",
       "      <th>34306</th>\n",
       "      <td>2016/09/04</td>\n",
       "      <td>北區</td>\n",
       "      <td>人社二館中繼</td>\n",
       "      <td>NaN</td>\n",
       "      <td>電站</td>\n",
       "      <td>12298.5</td>\n",
       "    </tr>\n",
       "    <tr>\n",
       "      <th>34307</th>\n",
       "      <td>2016/09/03</td>\n",
       "      <td>北區</td>\n",
       "      <td>人社二館中繼</td>\n",
       "      <td>NaN</td>\n",
       "      <td>電站</td>\n",
       "      <td>11785.5</td>\n",
       "    </tr>\n",
       "    <tr>\n",
       "      <th>34308</th>\n",
       "      <td>2016/09/02</td>\n",
       "      <td>北區</td>\n",
       "      <td>人社二館中繼</td>\n",
       "      <td>NaN</td>\n",
       "      <td>電站</td>\n",
       "      <td>14218.0</td>\n",
       "    </tr>\n",
       "  </tbody>\n",
       "</table>\n",
       "</div>"
      ],
      "text/plain": [
       "             Date Area Building_name Loop Type    Usage\n",
       "34302  2016/09/08   北區        人社二館中繼  NaN   電站  16427.5\n",
       "34303  2016/09/07   北區        人社二館中繼  NaN   電站  16563.0\n",
       "34306  2016/09/04   北區        人社二館中繼  NaN   電站  12298.5\n",
       "34307  2016/09/03   北區        人社二館中繼  NaN   電站  11785.5\n",
       "34308  2016/09/02   北區        人社二館中繼  NaN   電站  14218.0"
      ]
     },
     "execution_count": 138,
     "metadata": {},
     "output_type": "execute_result"
    }
   ],
   "source": [
    "df1[df1.Usage<20000].tail()"
   ]
  },
  {
   "cell_type": "code",
   "execution_count": 139,
   "metadata": {},
   "outputs": [
    {
     "name": "stdout",
     "output_type": "stream",
     "text": [
      "              Usage\n",
      "count  1.000000e+02\n",
      "mean   3.724763e+05\n",
      "std    1.512306e+06\n",
      "min    9.501000e+03\n",
      "25%    1.141012e+04\n",
      "50%    1.312925e+04\n",
      "75%    1.501462e+04\n",
      "max    8.862454e+06\n",
      "              Usage\n",
      "count  3.348000e+04\n",
      "mean   1.494016e+04\n",
      "std    3.704955e+05\n",
      "min    0.000000e+00\n",
      "25%    5.728750e+01\n",
      "50%    4.408600e+02\n",
      "75%    1.647727e+03\n",
      "max    2.326859e+07\n"
     ]
    }
   ],
   "source": [
    "print (df1[-100:].describe())\n",
    "print (df1[:-100].describe())\n"
   ]
  },
  {
   "cell_type": "code",
   "execution_count": 140,
   "metadata": {},
   "outputs": [
    {
     "data": {
      "text/html": [
       "<div>\n",
       "<table border=\"1\" class=\"dataframe\">\n",
       "  <thead>\n",
       "    <tr style=\"text-align: right;\">\n",
       "      <th></th>\n",
       "      <th>Usage</th>\n",
       "    </tr>\n",
       "    <tr>\n",
       "      <th>Building_name</th>\n",
       "      <th></th>\n",
       "    </tr>\n",
       "  </thead>\n",
       "  <tbody>\n",
       "    <tr>\n",
       "      <th>第一招待所</th>\n",
       "      <td>22.519425</td>\n",
       "    </tr>\n",
       "    <tr>\n",
       "      <th>行政大樓</th>\n",
       "      <td>146.468493</td>\n",
       "    </tr>\n",
       "    <tr>\n",
       "      <th>資訊館(北區)</th>\n",
       "      <td>183.003315</td>\n",
       "    </tr>\n",
       "    <tr>\n",
       "      <th>機車Ａ棚</th>\n",
       "      <td>198.436658</td>\n",
       "    </tr>\n",
       "    <tr>\n",
       "      <th>活動中心</th>\n",
       "      <td>259.770865</td>\n",
       "    </tr>\n",
       "    <tr>\n",
       "      <th>學生十一舍</th>\n",
       "      <td>375.425425</td>\n",
       "    </tr>\n",
       "    <tr>\n",
       "      <th>體育館</th>\n",
       "      <td>425.518968</td>\n",
       "    </tr>\n",
       "    <tr>\n",
       "      <th>研究生一舍</th>\n",
       "      <td>507.105918</td>\n",
       "    </tr>\n",
       "    <tr>\n",
       "      <th>中正堂</th>\n",
       "      <td>525.424338</td>\n",
       "    </tr>\n",
       "    <tr>\n",
       "      <th>工程一館</th>\n",
       "      <td>550.749205</td>\n",
       "    </tr>\n",
       "    <tr>\n",
       "      <th>機車Ｄ棚</th>\n",
       "      <td>578.314438</td>\n",
       "    </tr>\n",
       "    <tr>\n",
       "      <th>學生十舍</th>\n",
       "      <td>654.753219</td>\n",
       "    </tr>\n",
       "    <tr>\n",
       "      <th>竹軒宿舍</th>\n",
       "      <td>666.824932</td>\n",
       "    </tr>\n",
       "    <tr>\n",
       "      <th>人社一館</th>\n",
       "      <td>829.652877</td>\n",
       "    </tr>\n",
       "    <tr>\n",
       "      <th>學生十一舍_研一舍</th>\n",
       "      <td>1060.043836</td>\n",
       "    </tr>\n",
       "    <tr>\n",
       "      <th>工程二館</th>\n",
       "      <td>1093.582274</td>\n",
       "    </tr>\n",
       "    <tr>\n",
       "      <th>學生九舍</th>\n",
       "      <td>1579.101726</td>\n",
       "    </tr>\n",
       "    <tr>\n",
       "      <th>科學一館</th>\n",
       "      <td>1655.063973</td>\n",
       "    </tr>\n",
       "    <tr>\n",
       "      <th>游泳館</th>\n",
       "      <td>2422.328356</td>\n",
       "    </tr>\n",
       "    <tr>\n",
       "      <th>環保大樓</th>\n",
       "      <td>2627.278274</td>\n",
       "    </tr>\n",
       "    <tr>\n",
       "      <th>管理一館</th>\n",
       "      <td>3690.731205</td>\n",
       "    </tr>\n",
       "    <tr>\n",
       "      <th>科學二館</th>\n",
       "      <td>5012.013699</td>\n",
       "    </tr>\n",
       "    <tr>\n",
       "      <th>第二餐廳</th>\n",
       "      <td>5966.101957</td>\n",
       "    </tr>\n",
       "    <tr>\n",
       "      <th>人社二館</th>\n",
       "      <td>7150.333562</td>\n",
       "    </tr>\n",
       "    <tr>\n",
       "      <th>電資大樓</th>\n",
       "      <td>9142.729329</td>\n",
       "    </tr>\n",
       "    <tr>\n",
       "      <th>防災中心</th>\n",
       "      <td>9497.241096</td>\n",
       "    </tr>\n",
       "    <tr>\n",
       "      <th>基礎大樓</th>\n",
       "      <td>9613.569863</td>\n",
       "    </tr>\n",
       "    <tr>\n",
       "      <th>綜合一館</th>\n",
       "      <td>9909.581272</td>\n",
       "    </tr>\n",
       "    <tr>\n",
       "      <th>光電大樓</th>\n",
       "      <td>10840.329671</td>\n",
       "    </tr>\n",
       "    <tr>\n",
       "      <th>服務大樓</th>\n",
       "      <td>13168.334274</td>\n",
       "    </tr>\n",
       "    <tr>\n",
       "      <th>材料實驗</th>\n",
       "      <td>13864.596877</td>\n",
       "    </tr>\n",
       "    <tr>\n",
       "      <th>工程一館中繼</th>\n",
       "      <td>15043.616438</td>\n",
       "    </tr>\n",
       "    <tr>\n",
       "      <th>工程六館</th>\n",
       "      <td>18162.165534</td>\n",
       "    </tr>\n",
       "    <tr>\n",
       "      <th>資訊館(南區)</th>\n",
       "      <td>19049.616438</td>\n",
       "    </tr>\n",
       "    <tr>\n",
       "      <th>學生十二舍</th>\n",
       "      <td>31295.300000</td>\n",
       "    </tr>\n",
       "    <tr>\n",
       "      <th>女二舍</th>\n",
       "      <td>32353.045178</td>\n",
       "    </tr>\n",
       "    <tr>\n",
       "      <th>管理二館</th>\n",
       "      <td>33776.343836</td>\n",
       "    </tr>\n",
       "    <tr>\n",
       "      <th>圖資中心</th>\n",
       "      <td>36287.975548</td>\n",
       "    </tr>\n",
       "    <tr>\n",
       "      <th>學生十三舍</th>\n",
       "      <td>36864.552336</td>\n",
       "    </tr>\n",
       "    <tr>\n",
       "      <th>土木結構</th>\n",
       "      <td>38304.301370</td>\n",
       "    </tr>\n",
       "    <tr>\n",
       "      <th>研究生二舍</th>\n",
       "      <td>38891.867123</td>\n",
       "    </tr>\n",
       "    <tr>\n",
       "      <th>工程五館</th>\n",
       "      <td>44046.423288</td>\n",
       "    </tr>\n",
       "    <tr>\n",
       "      <th>學生七舍_八舍</th>\n",
       "      <td>50365.149315</td>\n",
       "    </tr>\n",
       "    <tr>\n",
       "      <th>交映樓</th>\n",
       "      <td>58030.298630</td>\n",
       "    </tr>\n",
       "    <tr>\n",
       "      <th>人社二館中繼</th>\n",
       "      <td>111105.669863</td>\n",
       "    </tr>\n",
       "    <tr>\n",
       "      <th>工程四館</th>\n",
       "      <td>127719.386301</td>\n",
       "    </tr>\n",
       "    <tr>\n",
       "      <th>工程三館</th>\n",
       "      <td>156857.320548</td>\n",
       "    </tr>\n",
       "  </tbody>\n",
       "</table>\n",
       "</div>"
      ],
      "text/plain": [
       "                       Usage\n",
       "Building_name               \n",
       "第一招待所              22.519425\n",
       "行政大樓              146.468493\n",
       "資訊館(北區)           183.003315\n",
       "機車Ａ棚              198.436658\n",
       "活動中心              259.770865\n",
       "學生十一舍             375.425425\n",
       "體育館               425.518968\n",
       "研究生一舍             507.105918\n",
       "中正堂               525.424338\n",
       "工程一館              550.749205\n",
       "機車Ｄ棚              578.314438\n",
       "學生十舍              654.753219\n",
       "竹軒宿舍              666.824932\n",
       "人社一館              829.652877\n",
       "學生十一舍_研一舍        1060.043836\n",
       "工程二館             1093.582274\n",
       "學生九舍             1579.101726\n",
       "科學一館             1655.063973\n",
       "游泳館              2422.328356\n",
       "環保大樓             2627.278274\n",
       "管理一館             3690.731205\n",
       "科學二館             5012.013699\n",
       "第二餐廳             5966.101957\n",
       "人社二館             7150.333562\n",
       "電資大樓             9142.729329\n",
       "防災中心             9497.241096\n",
       "基礎大樓             9613.569863\n",
       "綜合一館             9909.581272\n",
       "光電大樓            10840.329671\n",
       "服務大樓            13168.334274\n",
       "材料實驗            13864.596877\n",
       "工程一館中繼          15043.616438\n",
       "工程六館            18162.165534\n",
       "資訊館(南區)         19049.616438\n",
       "學生十二舍           31295.300000\n",
       "女二舍             32353.045178\n",
       "管理二館            33776.343836\n",
       "圖資中心            36287.975548\n",
       "學生十三舍           36864.552336\n",
       "土木結構            38304.301370\n",
       "研究生二舍           38891.867123\n",
       "工程五館            44046.423288\n",
       "學生七舍_八舍         50365.149315\n",
       "交映樓             58030.298630\n",
       "人社二館中繼         111105.669863\n",
       "工程四館           127719.386301\n",
       "工程三館           156857.320548"
      ]
     },
     "execution_count": 140,
     "metadata": {},
     "output_type": "execute_result"
    },
    {
     "data": {
      "image/png": "[encoded data removed]",
      "text/plain": [
       "<matplotlib.figure.Figure at 0x134a05240>"
      ]
     },
     "metadata": {},
     "output_type": "display_data"
    }
   ],
   "source": [
    "\n",
    "df1.groupby('Building_name').mean().sort_values('Usage')['Usage'].plot.bar()\n",
    "df1.groupby('Building_name').mean().sort_values('Usage')"
   ]
  },
  {
   "cell_type": "code",
   "execution_count": null,
   "metadata": {},
   "outputs": [],
   "source": [
    "df1[df1.bd_name == 'SB'].sort_values('date')['Usage'].plot.bar(color='green')\n",
    "df1[df1.bd_name == 'SA'].sort_values('date')['Usage'].plot.bar(color='yellow')\n"
   ]
  },
  {
   "cell_type": "code",
   "execution_count": null,
   "metadata": {
    "collapsed": true
   },
   "outputs": [],
   "source": [
    "fig, ax = plt.subplots()\n",
    "rects1 = ax.bar(ind, men_means, width, color='r', yerr=men_std)\n",
    "\n",
    "women_means = (25, 32, 34, 20, 25)\n",
    "women_std = (3, 5, 2, 3, 3)\n",
    "rects2 = ax.bar(ind + width, women_means, width, color='y', yerr=women_std)\n",
    "\n",
    "# add some text for labels, title and axes ticks\n",
    "ax.set_ylabel('Scores')\n",
    "ax.set_title('Scores by group and gender')\n",
    "ax.set_xticks(ind + width / 2)\n",
    "ax.set_xticklabels(('G1', 'G2', 'G3', 'G4', 'G5'))\n",
    "\n",
    "ax.legend((rects1[0], rects2[0]), ('Men', 'Women'))\n",
    "\n",
    "\n",
    "def autolabel(rects):\n",
    "    \"\"\"\n",
    "    Attach a text label above each bar displaying its height\n",
    "    \"\"\"\n",
    "    for rect in rects:\n",
    "        height = rect.get_height()\n",
    "        ax.text(rect.get_x() + rect.get_width()/2., 1.05*height,\n",
    "                '%d' % int(height),\n",
    "                ha='center', va='bottom')\n",
    "\n",
    "autolabel(rects1)\n",
    "autolabel(rects2)\n",
    "\n",
    "plt.show()"
   ]
  },
  {
   "cell_type": "code",
   "execution_count": null,
   "metadata": {
    "collapsed": true
   },
   "outputs": [],
   "source": []
  },
  {
   "cell_type": "code",
   "execution_count": null,
   "metadata": {},
   "outputs": [],
   "source": [
    "# #用pd.describe()了解資料\n",
    "print(df1.describe()) \n",
    "print(df1.shape) #How many data?\n"
   ]
  },
  {
   "cell_type": "code",
   "execution_count": null,
   "metadata": {},
   "outputs": [],
   "source": [
    "df1.bd_name.value_counts()\n",
    "#看看是否有缺資料"
   ]
  },
  {
   "cell_type": "code",
   "execution_count": null,
   "metadata": {
    "collapsed": true
   },
   "outputs": [],
   "source": []
  },
  {
   "cell_type": "markdown",
   "metadata": {},
   "source": []
  },
  {
   "cell_type": "code",
   "execution_count": null,
   "metadata": {},
   "outputs": [],
   "source": [
    "df1 = df #在df1實驗，不會搞雜原來的資料集\n",
    "df1[df1['用電量(單位:度)'] > 100000000] #找出過大的資料"
   ]
  },
  {
   "cell_type": "code",
   "execution_count": null,
   "metadata": {},
   "outputs": [],
   "source": [
    "df2 = df1\n",
    "df2.shape"
   ]
  },
  {
   "cell_type": "code",
   "execution_count": null,
   "metadata": {},
   "outputs": [],
   "source": [
    "#df1 = df1.drop(df1.index[[675,677]]) #把676,678拿掉\n",
    "#df2 = df[df1['用電量(單位:度)'] < 10000000] #把太大的拿掉\n",
    "\n",
    "#df2[df2['用電量(單位:度)'] > 100000000]\n",
    "df2.describe() "
   ]
  },
  {
   "cell_type": "code",
   "execution_count": null,
   "metadata": {},
   "outputs": [],
   "source": [
    "df2.shape"
   ]
  },
  {
   "cell_type": "code",
   "execution_count": null,
   "metadata": {},
   "outputs": [],
   "source": [
    "#df2 = df2[df2['用電量(單位:度)']  10]\n",
    "print (df2.shape)\n",
    "print (718-682, \": number of rows that are 0\")"
   ]
  },
  {
   "cell_type": "code",
   "execution_count": null,
   "metadata": {},
   "outputs": [],
   "source": [
    "df2.describe()"
   ]
  },
  {
   "cell_type": "code",
   "execution_count": null,
   "metadata": {},
   "outputs": [],
   "source": [
    "df2['用電量(單位:度)'].plot.line()\n",
    "#matplotlib.pyplot.title('Electricity usage per 15 min (In 2 weeks, unit: degree)')"
   ]
  },
  {
   "cell_type": "code",
   "execution_count": null,
   "metadata": {},
   "outputs": [],
   "source": [
    "df3 = df2\n",
    "df3.columns\n",
    "df3.describe()"
   ]
  },
  {
   "cell_type": "code",
   "execution_count": null,
   "metadata": {},
   "outputs": [],
   "source": []
  },
  {
   "cell_type": "code",
   "execution_count": null,
   "metadata": {
    "collapsed": true
   },
   "outputs": [],
   "source": []
  },
  {
   "cell_type": "code",
   "execution_count": null,
   "metadata": {},
   "outputs": [],
   "source": [
    "df3.groupby(['date']).count()['Usage']"
   ]
  },
  {
   "cell_type": "code",
   "execution_count": null,
   "metadata": {
    "collapsed": true
   },
   "outputs": [],
   "source": [
    "#df3.groupby(['date','bd_name']).plot(subplots=True)"
   ]
  },
  {
   "cell_type": "code",
   "execution_count": null,
   "metadata": {},
   "outputs": [],
   "source": [
    "df4.bd_name.unique()"
   ]
  },
  {
   "cell_type": "code",
   "execution_count": null,
   "metadata": {
    "scrolled": true
   },
   "outputs": [],
   "source": [
    "df4 = df3.sort_values(['bd_name','date','loop'])\n",
    "df4.bd_name.value_counts()\n",
    "#df4.bd_name.value_counts() == 12\n",
    "#df5 = df4[df4.bd_name not in ['DinningHall2','ActivityCenter']]\n",
    "\n"
   ]
  },
  {
   "cell_type": "code",
   "execution_count": null,
   "metadata": {},
   "outputs": [],
   "source": [
    "df4"
   ]
  },
  {
   "cell_type": "code",
   "execution_count": null,
   "metadata": {},
   "outputs": [],
   "source": [
    "\n"
   ]
  },
  {
   "cell_type": "code",
   "execution_count": null,
   "metadata": {},
   "outputs": [],
   "source": [
    "bd_name_12 = '''SD11                          12\n",
    "Manegement1                   12\n",
    "GraduateStudentDormitory1     12\n",
    "Engineer2                     12\n",
    "Engineer1                     12\n",
    "Chu-HsuanFemale               12\n",
    "HABuilding2                   12\n",
    "StudentDormitory9             12\n",
    "Motocycle                     12\n",
    "SB                            12\n",
    "SA                            12\n",
    "GraduateDorm1                 12\n",
    "HA1                           12\n",
    "Swim                          12\n",
    "SC                            12\n",
    "First_dorm                    12'''.split()\n",
    "bd_name_12.sort()\n",
    "bd_name_12 = bd_name_12[16:]\n",
    "bd_name_12\n"
   ]
  },
  {
   "cell_type": "code",
   "execution_count": null,
   "metadata": {},
   "outputs": [],
   "source": [
    "df3.groupby(['date','bd_name']).sum().unstack().plot(subplots=True)\n",
    "\n"
   ]
  },
  {
   "cell_type": "code",
   "execution_count": null,
   "metadata": {},
   "outputs": [],
   "source": [
    "dfsmall = df3 [df3.bd_name != 'DinningHall2                ']\n",
    "dfsmallmean = dfsmall.groupby('bd_name').mean()\n",
    "dfsmallmean.Usage.plot.bar()\n",
    "df3_1 = df3.groupby('bd_name').mean()\n",
    "#.Usage.plot.bar()"
   ]
  },
  {
   "cell_type": "code",
   "execution_count": null,
   "metadata": {},
   "outputs": [],
   "source": [
    "df3_1.sort_values('Usage')['Usage'].plot.bar()\n",
    "savefig('sort.png')"
   ]
  },
  {
   "cell_type": "code",
   "execution_count": null,
   "metadata": {},
   "outputs": [],
   "source": [
    "#df3.groupby(['date','bd_name']).count()['Usage'].unstack().plot()\n",
    "df3big = df3[df3.Usage > 100000]\n",
    "df3big.groupby('bd_name').mean().plot.bar()"
   ]
  },
  {
   "cell_type": "code",
   "execution_count": null,
   "metadata": {},
   "outputs": [],
   "source": [
    "#df3.groupby('Usage').Usage.plot.bar(subplots=True)\n",
    "#print (df3.groupby('bd_name')['Usage'].plot(subplots=True))\n",
    "#df3.groupby('date').plot.bar()\n"
   ]
  },
  {
   "cell_type": "code",
   "execution_count": null,
   "metadata": {},
   "outputs": [],
   "source": [
    "df3.head()"
   ]
  },
  {
   "cell_type": "code",
   "execution_count": null,
   "metadata": {},
   "outputs": [],
   "source": [
    "df3.Usage.mean()"
   ]
  },
  {
   "cell_type": "code",
   "execution_count": null,
   "metadata": {},
   "outputs": [],
   "source": [
    "df3.groupby('bd_name').Usage.mean().plot.bar()"
   ]
  },
  {
   "cell_type": "code",
   "execution_count": null,
   "metadata": {
    "collapsed": true
   },
   "outputs": [],
   "source": []
  },
  {
   "cell_type": "code",
   "execution_count": null,
   "metadata": {
    "collapsed": true
   },
   "outputs": [],
   "source": [
    "name =\"\"\"1. Management Building 1 管理一館\n",
    "2. HA Building 2 人社二館\n",
    "3. Administration Building 行政大樓\n",
    "4. Chung Cheng Auditorium 中正堂\n",
    "5. HA Building 1 人社一館\n",
    "6. Engineering Building 1 工程一館\n",
    "7. Engineering Building 2 工程二館\n",
    "8. Science Building 1 科學一館\n",
    "9. Information Building 資訊館\n",
    "10. Engineering Building 3 工程三館\n",
    "11. Dinning Hall 1 第一餐廳\n",
    "12. Dinning Hall 2 第二餐廳\n",
    "13. Badminton Building 羽球館\n",
    "14. Gymnasium 體育館\n",
    "15. Swimming Pool 游泳池\n",
    "16. Field 田徑場\n",
    "17. Student Dormitory 7 學生七舍\n",
    "18. Student Dormitory 8 學生八舍\n",
    "19. Chu-Hsuan Female 竹軒女舍\n",
    "20. Student Dormitory 9 學生九舍\n",
    "21. Student Dormitory 10 學生十舍\n",
    "22. Graduate Student Dormitory 1 研一舍\n",
    "23. Student Dormitory 11 學生十一舍\n",
    "24. Engineering Building 4 工程四館\n",
    "25. Management Building 2 管理二館\n",
    "26. National Nano Device Lab 毫微米元件實驗室\n",
    "27. Student Dormitory 12 學生十二舍\n",
    "28. Science Building 2 科學二館\n",
    "29. Student Activity Center 學生活動中心\n",
    "30. Engineering Building 5 工程五館\n",
    "31. Assembly Building 1 綜合一館\n",
    "32. Student Dormitory 13 學生十三舍\n",
    "33. Graduate Student Dormitory 2 研二舍\n",
    "34. Library and Information Center 浩然圖書資訊中心\n",
    "35. Microelectronics & Information 電子資訊中心\n",
    "36. Civil Engineering Lab 土木實驗結構室\n",
    "37. Female Student Dormitory 2 女二舍\n",
    "38. Materials & Mechanical Engineering Lab材料實驗室\n",
    "\"\"\""
   ]
  },
  {
   "cell_type": "code",
   "execution_count": null,
   "metadata": {
    "collapsed": true
   },
   "outputs": [],
   "source": [
    "name_list = name.splitlines()\n",
    "for i in range(len(name_list)):\n",
    "    name_list[i] = name_list[i].split()\n",
    "\n",
    "name_list\n",
    "\n",
    "\n",
    "bd_name_list = df3.bd_name.unique()\n",
    "for i in range(len(name_list)):\n",
    "    name_list[i] = [name_list[i][-1],''.join(name_list[i][1:-1])]\n"
   ]
  },
  {
   "cell_type": "code",
   "execution_count": null,
   "metadata": {},
   "outputs": [],
   "source": [
    "# Clear white space in string \n",
    "for i in range(len(bd_name_list)):\n",
    "    bd_name_list[i] = bd_name_list[i].replace(\" \", \"\")\n",
    "bd_name_list "
   ]
  },
  {
   "cell_type": "code",
   "execution_count": null,
   "metadata": {},
   "outputs": [],
   "source": [
    "name_list_ch = []\n",
    "for i in range(len(name_list)): \n",
    "    name_list_ch.append(name_list[i][0])\n",
    "print(name_list_ch)\n",
    "print(bd_name_list)"
   ]
  },
  {
   "cell_type": "code",
   "execution_count": null,
   "metadata": {},
   "outputs": [],
   "source": [
    "print (set(bd_name_list)&set(name_list_ch)) \n",
    "print (set(bd_name_list)-set(name_list_ch)) \n",
    "print (set(name_list_ch)-set(bd_name_list)) \n"
   ]
  },
  {
   "cell_type": "code",
   "execution_count": null,
   "metadata": {},
   "outputs": [],
   "source": [
    "for item in name_list:\n",
    "    print (item[1:-1])"
   ]
  },
  {
   "cell_type": "code",
   "execution_count": null,
   "metadata": {
    "collapsed": true
   },
   "outputs": [],
   "source": []
  },
  {
   "cell_type": "code",
   "execution_count": null,
   "metadata": {
    "collapsed": true
   },
   "outputs": [],
   "source": []
  },
  {
   "cell_type": "code",
   "execution_count": null,
   "metadata": {
    "collapsed": true
   },
   "outputs": [],
   "source": []
  },
  {
   "cell_type": "code",
   "execution_count": null,
   "metadata": {},
   "outputs": [],
   "source": [
    "df_hr = newdf.Date_Time.str[-5:-3]\n",
    "df_min = newdf.Date_Time.str[-2:]\n",
    "# print (df_hr.head(),df_min.head())\n",
    "newdf.loc[:,'hr'] = pd.Series(df_hr)\n",
    "newdf.loc[:,'min'] = pd.Series(df_min)\n",
    "newdf.Date_Time = newdf.Date_Time.str[:-6]\n",
    "newdf.head()"
   ]
  },
  {
   "cell_type": "code",
   "execution_count": null,
   "metadata": {
    "collapsed": true
   },
   "outputs": [],
   "source": [
    "#科三每小時平均用電量, 範圍 10.01(Sun) - 10.14(Sat.)\n",
    "dfnew_gpby = newdf.groupby(['hr'])\n",
    "dfnew_gpby.mean().plot.bar()\n",
    "matplotlib.pyplot.title('Hourly average electricity usage (Takes 14 day, unit: degree)')"
   ]
  },
  {
   "cell_type": "code",
   "execution_count": null,
   "metadata": {
    "collapsed": true
   },
   "outputs": [],
   "source": []
  },
  {
   "cell_type": "code",
   "execution_count": null,
   "metadata": {
    "collapsed": true
   },
   "outputs": [],
   "source": [
    "#科三每15分鐘用電量 \n",
    "#沒什麼意義\n",
    "dfnew_gpby = newdf.groupby(['min'])\n",
    "dfnew_gpby.mean().plot.bar()\n",
    "# matplotlib.pyplot.title('Minute average electricity usage (Takes 14 day, unit: degree)')"
   ]
  },
  {
   "cell_type": "code",
   "execution_count": null,
   "metadata": {
    "collapsed": true
   },
   "outputs": [],
   "source": [
    "dfnew_byDay = newdf.groupby(['Date_Time'])\n",
    "dfnew_byDay.plot.bar(stacked=True)"
   ]
  },
  {
   "cell_type": "code",
   "execution_count": null,
   "metadata": {
    "collapsed": true
   },
   "outputs": [],
   "source": [
    "df_te.plot.bar()\n",
    "matplotlib.pyplot.title('Electricity usage in hours (Takes 14 day, unit: degree)')"
   ]
  },
  {
   "cell_type": "code",
   "execution_count": null,
   "metadata": {
    "collapsed": true
   },
   "outputs": [],
   "source": [
    "plt.bar( \n",
    "        #using df['pre_score'] data,\n",
    "        dfnew_byDay.Usage, \n",
    "        # of width\n",
    "#         width, \n",
    "        # with alpha 0.5\n",
    "#         alpha=0.5, \n",
    "        # with color\n",
    "        color='#EE3224', \n",
    "        # with label the first value in first_name\n",
    "#         label=dfnew_byDay['Date_Time'][0]\n",
    ") "
   ]
  },
  {
   "cell_type": "code",
   "execution_count": null,
   "metadata": {
    "collapsed": true
   },
   "outputs": [],
   "source": [
    "?plt.bar"
   ]
  },
  {
   "cell_type": "code",
   "execution_count": null,
   "metadata": {
    "collapsed": true
   },
   "outputs": [],
   "source": [
    "''"
   ]
  }
 ],
 "metadata": {
  "anaconda-cloud": {},
  "kernelspec": {
   "display_name": "Python [default]",
   "language": "python",
   "name": "python3"
  },
  "language_info": {
   "codemirror_mode": {
    "name": "ipython",
    "version": 3
   },
   "file_extension": ".py",
   "mimetype": "text/x-python",
   "name": "python",
   "nbconvert_exporter": "python",
   "pygments_lexer": "ipython3",
   "version": "3.5.2"
  }
 },
 "nbformat": 4,
 "nbformat_minor": 2
}
